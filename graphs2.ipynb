{
 "cells": [
  {
   "cell_type": "code",
   "execution_count": 12,
   "metadata": {},
   "outputs": [],
   "source": [
    "import read_data\n",
    "import plotly.express as px"
   ]
  },
  {
   "cell_type": "code",
   "execution_count": 22,
   "metadata": {},
   "outputs": [
    {
     "data": {
      "text/html": [
       "<div>\n",
       "<style scoped>\n",
       "    .dataframe tbody tr th:only-of-type {\n",
       "        vertical-align: middle;\n",
       "    }\n",
       "\n",
       "    .dataframe tbody tr th {\n",
       "        vertical-align: top;\n",
       "    }\n",
       "\n",
       "    .dataframe thead th {\n",
       "        text-align: right;\n",
       "    }\n",
       "</style>\n",
       "<table border=\"1\" class=\"dataframe\">\n",
       "  <thead>\n",
       "    <tr style=\"text-align: right;\">\n",
       "      <th></th>\n",
       "      <th>areaName</th>\n",
       "      <th>Borough</th>\n",
       "      <th>areaType</th>\n",
       "      <th>date</th>\n",
       "      <th>value</th>\n",
       "    </tr>\n",
       "  </thead>\n",
       "  <tbody>\n",
       "    <tr>\n",
       "      <th>0</th>\n",
       "      <td>All Downtown</td>\n",
       "      <td>Manhattan</td>\n",
       "      <td>submarket</td>\n",
       "      <td>2010-01-01</td>\n",
       "      <td>4268</td>\n",
       "    </tr>\n",
       "    <tr>\n",
       "      <th>1</th>\n",
       "      <td>All Midtown</td>\n",
       "      <td>Manhattan</td>\n",
       "      <td>submarket</td>\n",
       "      <td>2010-01-01</td>\n",
       "      <td>3065</td>\n",
       "    </tr>\n",
       "    <tr>\n",
       "      <th>2</th>\n",
       "      <td>All Upper East Side</td>\n",
       "      <td>Manhattan</td>\n",
       "      <td>submarket</td>\n",
       "      <td>2010-01-01</td>\n",
       "      <td>2549</td>\n",
       "    </tr>\n",
       "    <tr>\n",
       "      <th>3</th>\n",
       "      <td>All Upper Manhattan</td>\n",
       "      <td>Manhattan</td>\n",
       "      <td>submarket</td>\n",
       "      <td>2010-01-01</td>\n",
       "      <td>848</td>\n",
       "    </tr>\n",
       "    <tr>\n",
       "      <th>4</th>\n",
       "      <td>All Upper West Side</td>\n",
       "      <td>Manhattan</td>\n",
       "      <td>submarket</td>\n",
       "      <td>2010-01-01</td>\n",
       "      <td>2162</td>\n",
       "    </tr>\n",
       "    <tr>\n",
       "      <th>...</th>\n",
       "      <td>...</td>\n",
       "      <td>...</td>\n",
       "      <td>...</td>\n",
       "      <td>...</td>\n",
       "      <td>...</td>\n",
       "    </tr>\n",
       "    <tr>\n",
       "      <th>28954</th>\n",
       "      <td>Windsor Terrace</td>\n",
       "      <td>Brooklyn</td>\n",
       "      <td>neighborhood</td>\n",
       "      <td>2022-03-01</td>\n",
       "      <td>40</td>\n",
       "    </tr>\n",
       "    <tr>\n",
       "      <th>28955</th>\n",
       "      <td>Woodhaven</td>\n",
       "      <td>Queens</td>\n",
       "      <td>neighborhood</td>\n",
       "      <td>2022-03-01</td>\n",
       "      <td>28</td>\n",
       "    </tr>\n",
       "    <tr>\n",
       "      <th>28956</th>\n",
       "      <td>Woodlawn</td>\n",
       "      <td>Bronx</td>\n",
       "      <td>neighborhood</td>\n",
       "      <td>2022-03-01</td>\n",
       "      <td>10</td>\n",
       "    </tr>\n",
       "    <tr>\n",
       "      <th>28957</th>\n",
       "      <td>Woodside</td>\n",
       "      <td>Queens</td>\n",
       "      <td>neighborhood</td>\n",
       "      <td>2022-03-01</td>\n",
       "      <td>91</td>\n",
       "    </tr>\n",
       "    <tr>\n",
       "      <th>28958</th>\n",
       "      <td>Woodstock</td>\n",
       "      <td>Bronx</td>\n",
       "      <td>neighborhood</td>\n",
       "      <td>2022-03-01</td>\n",
       "      <td>8</td>\n",
       "    </tr>\n",
       "  </tbody>\n",
       "</table>\n",
       "<p>28959 rows × 5 columns</p>\n",
       "</div>"
      ],
      "text/plain": [
       "                  areaName    Borough      areaType       date  value\n",
       "0             All Downtown  Manhattan     submarket 2010-01-01   4268\n",
       "1              All Midtown  Manhattan     submarket 2010-01-01   3065\n",
       "2      All Upper East Side  Manhattan     submarket 2010-01-01   2549\n",
       "3      All Upper Manhattan  Manhattan     submarket 2010-01-01    848\n",
       "4      All Upper West Side  Manhattan     submarket 2010-01-01   2162\n",
       "...                    ...        ...           ...        ...    ...\n",
       "28954      Windsor Terrace   Brooklyn  neighborhood 2022-03-01     40\n",
       "28955            Woodhaven     Queens  neighborhood 2022-03-01     28\n",
       "28956             Woodlawn      Bronx  neighborhood 2022-03-01     10\n",
       "28957             Woodside     Queens  neighborhood 2022-03-01     91\n",
       "28958            Woodstock      Bronx  neighborhood 2022-03-01      8\n",
       "\n",
       "[28959 rows x 5 columns]"
      ]
     },
     "execution_count": 22,
     "metadata": {},
     "output_type": "execute_result"
    }
   ],
   "source": [
    "df = read_data.get_rental_inventory()\n",
    "df"
   ]
  },
  {
   "cell_type": "code",
   "execution_count": 24,
   "metadata": {},
   "outputs": [
    {
     "data": {
      "text/html": [
       "<div>\n",
       "<style scoped>\n",
       "    .dataframe tbody tr th:only-of-type {\n",
       "        vertical-align: middle;\n",
       "    }\n",
       "\n",
       "    .dataframe tbody tr th {\n",
       "        vertical-align: top;\n",
       "    }\n",
       "\n",
       "    .dataframe thead th {\n",
       "        text-align: right;\n",
       "    }\n",
       "</style>\n",
       "<table border=\"1\" class=\"dataframe\">\n",
       "  <thead>\n",
       "    <tr style=\"text-align: right;\">\n",
       "      <th></th>\n",
       "      <th>areaName</th>\n",
       "      <th>Borough</th>\n",
       "      <th>areaType</th>\n",
       "      <th>date</th>\n",
       "      <th>value</th>\n",
       "    </tr>\n",
       "  </thead>\n",
       "  <tbody>\n",
       "    <tr>\n",
       "      <th>0</th>\n",
       "      <td>All Downtown</td>\n",
       "      <td>Manhattan</td>\n",
       "      <td>submarket</td>\n",
       "      <td>2010-01-01</td>\n",
       "      <td>4268</td>\n",
       "    </tr>\n",
       "    <tr>\n",
       "      <th>1</th>\n",
       "      <td>All Midtown</td>\n",
       "      <td>Manhattan</td>\n",
       "      <td>submarket</td>\n",
       "      <td>2010-01-01</td>\n",
       "      <td>3065</td>\n",
       "    </tr>\n",
       "    <tr>\n",
       "      <th>2</th>\n",
       "      <td>All Upper East Side</td>\n",
       "      <td>Manhattan</td>\n",
       "      <td>submarket</td>\n",
       "      <td>2010-01-01</td>\n",
       "      <td>2549</td>\n",
       "    </tr>\n",
       "    <tr>\n",
       "      <th>3</th>\n",
       "      <td>All Upper Manhattan</td>\n",
       "      <td>Manhattan</td>\n",
       "      <td>submarket</td>\n",
       "      <td>2010-01-01</td>\n",
       "      <td>848</td>\n",
       "    </tr>\n",
       "    <tr>\n",
       "      <th>4</th>\n",
       "      <td>All Upper West Side</td>\n",
       "      <td>Manhattan</td>\n",
       "      <td>submarket</td>\n",
       "      <td>2010-01-01</td>\n",
       "      <td>2162</td>\n",
       "    </tr>\n",
       "    <tr>\n",
       "      <th>...</th>\n",
       "      <td>...</td>\n",
       "      <td>...</td>\n",
       "      <td>...</td>\n",
       "      <td>...</td>\n",
       "      <td>...</td>\n",
       "    </tr>\n",
       "    <tr>\n",
       "      <th>28954</th>\n",
       "      <td>Windsor Terrace</td>\n",
       "      <td>Brooklyn</td>\n",
       "      <td>neighborhood</td>\n",
       "      <td>2022-03-01</td>\n",
       "      <td>40</td>\n",
       "    </tr>\n",
       "    <tr>\n",
       "      <th>28955</th>\n",
       "      <td>Woodhaven</td>\n",
       "      <td>Queens</td>\n",
       "      <td>neighborhood</td>\n",
       "      <td>2022-03-01</td>\n",
       "      <td>28</td>\n",
       "    </tr>\n",
       "    <tr>\n",
       "      <th>28956</th>\n",
       "      <td>Woodlawn</td>\n",
       "      <td>Bronx</td>\n",
       "      <td>neighborhood</td>\n",
       "      <td>2022-03-01</td>\n",
       "      <td>10</td>\n",
       "    </tr>\n",
       "    <tr>\n",
       "      <th>28957</th>\n",
       "      <td>Woodside</td>\n",
       "      <td>Queens</td>\n",
       "      <td>neighborhood</td>\n",
       "      <td>2022-03-01</td>\n",
       "      <td>91</td>\n",
       "    </tr>\n",
       "    <tr>\n",
       "      <th>28958</th>\n",
       "      <td>Woodstock</td>\n",
       "      <td>Bronx</td>\n",
       "      <td>neighborhood</td>\n",
       "      <td>2022-03-01</td>\n",
       "      <td>8</td>\n",
       "    </tr>\n",
       "  </tbody>\n",
       "</table>\n",
       "<p>28959 rows × 5 columns</p>\n",
       "</div>"
      ],
      "text/plain": [
       "                  areaName    Borough      areaType       date  value\n",
       "0             All Downtown  Manhattan     submarket 2010-01-01   4268\n",
       "1              All Midtown  Manhattan     submarket 2010-01-01   3065\n",
       "2      All Upper East Side  Manhattan     submarket 2010-01-01   2549\n",
       "3      All Upper Manhattan  Manhattan     submarket 2010-01-01    848\n",
       "4      All Upper West Side  Manhattan     submarket 2010-01-01   2162\n",
       "...                    ...        ...           ...        ...    ...\n",
       "28954      Windsor Terrace   Brooklyn  neighborhood 2022-03-01     40\n",
       "28955            Woodhaven     Queens  neighborhood 2022-03-01     28\n",
       "28956             Woodlawn      Bronx  neighborhood 2022-03-01     10\n",
       "28957             Woodside     Queens  neighborhood 2022-03-01     91\n",
       "28958            Woodstock      Bronx  neighborhood 2022-03-01      8\n",
       "\n",
       "[28959 rows x 5 columns]"
      ]
     },
     "execution_count": 24,
     "metadata": {},
     "output_type": "execute_result"
    }
   ],
   "source": [
    "df"
   ]
  },
  {
   "cell_type": "code",
   "execution_count": 25,
   "metadata": {},
   "outputs": [],
   "source": [
    "fig = px.sunburst(df, path=[\"Borough\", \"areaType\", \"areaName\"], values=\"value\")"
   ]
  },
  {
   "cell_type": "code",
   "execution_count": 26,
   "metadata": {},
   "outputs": [
    {
     "data": {
      "application/vnd.plotly.v1+json": {
       "config": {
        "plotlyServerURL": "https://plot.ly"
       },
       "data": [
        {
         "branchvalues": "total",
         "domain": {
          "x": [
           0,
           1
          ],
          "y": [
           0,
           1
          ]
         },
         "hovertemplate": "labels=%{label}<br>value=%{value}<br>parent=%{parent}<br>id=%{id}<extra></extra>",
         "ids": [
          "Manhattan/submarket/All Downtown",
          "Manhattan/submarket/All Midtown",
          "Manhattan/submarket/All Upper East Side",
          "Manhattan/submarket/All Upper Manhattan",
          "Manhattan/submarket/All Upper West Side",
          "Queens/neighborhood/Astoria",
          "Queens/neighborhood/Auburndale",
          "Brooklyn/neighborhood/Bath Beach",
          "Manhattan/neighborhood/Battery Park City",
          "Brooklyn/neighborhood/Bay Ridge",
          "Bronx/neighborhood/Baychester",
          "Queens/neighborhood/Bayside",
          "Bronx/neighborhood/Bedford Park",
          "Brooklyn/neighborhood/Bedford-Stuyvesant",
          "Queens/neighborhood/Bellerose",
          "Bronx/neighborhood/Belmont",
          "Brooklyn/neighborhood/Bensonhurst",
          "Brooklyn/neighborhood/Bergen Beach",
          "Brooklyn/neighborhood/Boerum Hill",
          "Brooklyn/neighborhood/Borough Park",
          "Queens/neighborhood/Briarwood",
          "Brooklyn/neighborhood/Brighton Beach",
          "Bronx/borough/Bronx",
          "Bronx/neighborhood/Bronxwood",
          "Brooklyn/borough/Brooklyn",
          "Brooklyn/neighborhood/Brooklyn Heights",
          "Queens/neighborhood/Brookville",
          "Brooklyn/neighborhood/Brownsville",
          "Brooklyn/neighborhood/Bushwick",
          "Queens/neighborhood/Cambria Heights",
          "Brooklyn/neighborhood/Canarsie",
          "Brooklyn/neighborhood/Carroll Gardens",
          "Bronx/neighborhood/Castle Hill",
          "Manhattan/neighborhood/Central Harlem",
          "Manhattan/neighborhood/Central Park South",
          "Queens/submarket/Central Queens",
          "Manhattan/neighborhood/Chelsea",
          "Manhattan/neighborhood/Chinatown",
          "Bronx/neighborhood/City Island",
          "Manhattan/neighborhood/Civic Center",
          "Queens/neighborhood/Clearview",
          "Brooklyn/neighborhood/Clinton Hill",
          "Bronx/neighborhood/Co-op City",
          "Brooklyn/neighborhood/Cobble Hill",
          "Queens/neighborhood/College Point",
          "Brooklyn/neighborhood/Columbia St Waterfront District",
          "Bronx/neighborhood/Concourse",
          "Brooklyn/neighborhood/Coney Island",
          "Queens/neighborhood/Corona",
          "Bronx/neighborhood/Country Club",
          "Bronx/neighborhood/Crotona Park East",
          "Brooklyn/neighborhood/Crown Heights",
          "Brooklyn/neighborhood/DUMBO",
          "Brooklyn/neighborhood/Ditmas Park",
          "Queens/neighborhood/Douglaston",
          "Brooklyn/neighborhood/Downtown Brooklyn",
          "Brooklyn/neighborhood/Dyker Heights",
          "Brooklyn/submarket/East Brooklyn",
          "Queens/neighborhood/East Elmhurst",
          "Brooklyn/neighborhood/East Flatbush",
          "Manhattan/neighborhood/East Harlem",
          "Brooklyn/neighborhood/East New York",
          "Bronx/neighborhood/East Tremont",
          "Manhattan/neighborhood/East Village",
          "Bronx/neighborhood/Eastchester",
          "Bronx/neighborhood/Edenwald",
          "Queens/neighborhood/Elmhurst",
          "Manhattan/neighborhood/Financial District",
          "Brooklyn/neighborhood/Flatbush",
          "Manhattan/neighborhood/Flatiron",
          "Brooklyn/neighborhood/Flatlands",
          "Queens/neighborhood/Floral Park",
          "Queens/neighborhood/Flushing",
          "Bronx/neighborhood/Fordham",
          "Queens/neighborhood/Forest Hills",
          "Brooklyn/neighborhood/Fort Greene",
          "Queens/neighborhood/Fresh Meadows",
          "Brooklyn/neighborhood/Gerritsen Beach",
          "Queens/neighborhood/Glen Oaks",
          "Queens/neighborhood/Glendale",
          "Brooklyn/neighborhood/Gowanus",
          "Manhattan/neighborhood/Gramercy Park",
          "Brooklyn/neighborhood/Gravesend",
          "Brooklyn/neighborhood/Greenpoint",
          "Manhattan/neighborhood/Greenwich Village",
          "Brooklyn/neighborhood/Greenwood",
          "Manhattan/neighborhood/Hamilton Heights",
          "Bronx/neighborhood/Highbridge",
          "Queens/neighborhood/Hillcrest",
          "Queens/neighborhood/Hollis",
          "Queens/neighborhood/Howard Beach",
          "Bronx/neighborhood/Hunts Point",
          "Manhattan/neighborhood/Inwood",
          "Queens/neighborhood/Jackson Heights",
          "Queens/neighborhood/Jamaica",
          "Queens/neighborhood/Jamaica Estates",
          "Queens/neighborhood/Jamaica Hills",
          "Brooklyn/neighborhood/Kensington",
          "Queens/neighborhood/Kew Gardens",
          "Queens/neighborhood/Kew Gardens Hills",
          "Bronx/neighborhood/Kingsbridge",
          "Bronx/neighborhood/Laconia",
          "Queens/neighborhood/Laurelton",
          "Manhattan/neighborhood/Little Italy",
          "Queens/neighborhood/Little Neck",
          "Queens/neighborhood/Long Island City",
          "Bronx/neighborhood/Longwood",
          "Manhattan/neighborhood/Lower East Side",
          "Manhattan/borough/Manhattan",
          "Brooklyn/neighborhood/Manhattan Beach",
          "Manhattan/neighborhood/Marble Hill",
          "Brooklyn/neighborhood/Marine Park",
          "Queens/neighborhood/Maspeth",
          "Bronx/neighborhood/Melrose",
          "Queens/neighborhood/Middle Village",
          "Manhattan/neighborhood/Midtown",
          "Manhattan/neighborhood/Midtown East",
          "Manhattan/neighborhood/Midtown South",
          "Manhattan/neighborhood/Midtown West",
          "Brooklyn/neighborhood/Midwood",
          "Brooklyn/neighborhood/Mill Basin",
          "Manhattan/neighborhood/Morningside Heights",
          "Bronx/neighborhood/Morris Heights",
          "Bronx/neighborhood/Morris Park",
          "Bronx/neighborhood/Morrisania",
          "Bronx/neighborhood/Mott Haven",
          "Queens/neighborhood/New Hyde Park",
          "Manhattan/neighborhood/Nolita",
          "Brooklyn/submarket/North Brooklyn",
          "Queens/neighborhood/North Corona",
          "Queens/submarket/Northeast Queens",
          "Brooklyn/submarket/Northwest Brooklyn",
          "Queens/submarket/Northwest Queens",
          "Bronx/neighborhood/Norwood",
          "Queens/neighborhood/Oakland Gardens",
          "Brooklyn/neighborhood/Ocean Parkway",
          "Brooklyn/neighborhood/Old Mill Basin",
          "Queens/neighborhood/Ozone Park",
          "Brooklyn/neighborhood/Park Slope",
          "Bronx/neighborhood/Parkchester",
          "Bronx/neighborhood/Pelham Bay",
          "Bronx/neighborhood/Pelham Gardens",
          "Bronx/neighborhood/Pelham Parkway",
          "Queens/neighborhood/Pomonok",
          "Bronx/neighborhood/Port Morris",
          "Brooklyn/neighborhood/Prospect Heights",
          "Brooklyn/neighborhood/Prospect Lefferts Gardens",
          "Brooklyn/submarket/Prospect Park",
          "Brooklyn/neighborhood/Prospect Park South",
          "Queens/borough/Queens",
          "Queens/neighborhood/Queens Village",
          "Brooklyn/neighborhood/Red Hook",
          "Queens/neighborhood/Rego Park",
          "Queens/neighborhood/Richmond Hill",
          "Queens/neighborhood/Ridgewood",
          "Bronx/neighborhood/Riverdale",
          "Queens/neighborhood/Rockaway All",
          "Manhattan/neighborhood/Roosevelt Island",
          "Queens/neighborhood/Rosedale",
          "Bronx/neighborhood/Schuylerville",
          "Brooklyn/neighborhood/Seagate",
          "Brooklyn/neighborhood/Sheepshead Bay",
          "Manhattan/neighborhood/Soho",
          "Bronx/neighborhood/Soundview",
          "Brooklyn/submarket/South Brooklyn",
          "Queens/neighborhood/South Jamaica",
          "Queens/neighborhood/South Ozone Park",
          "Queens/submarket/South Queens",
          "Queens/neighborhood/South Richmond Hill",
          "Queens/neighborhood/Springfield Gardens",
          "Queens/neighborhood/St. Albans",
          "Staten Island/borough/Staten Island",
          "Manhattan/neighborhood/Stuyvesant Town/PCV",
          "Queens/neighborhood/Sunnyside",
          "Brooklyn/neighborhood/Sunset Park",
          "Queens/submarket/The Rockaways",
          "Bronx/neighborhood/Throgs Neck",
          "Bronx/neighborhood/Tremont",
          "Manhattan/neighborhood/Tribeca",
          "Bronx/neighborhood/University Heights",
          "Manhattan/neighborhood/Upper East Side",
          "Manhattan/neighborhood/Upper West Side",
          "Queens/neighborhood/Utopia",
          "Bronx/neighborhood/Van Nest",
          "Bronx/neighborhood/Wakefield",
          "Manhattan/neighborhood/Washington Heights",
          "Manhattan/neighborhood/West Harlem",
          "Manhattan/neighborhood/West Village",
          "Bronx/neighborhood/Westchester Village",
          "Queens/neighborhood/Whitestone",
          "Bronx/neighborhood/Williamsbridge",
          "Brooklyn/neighborhood/Williamsburg",
          "Brooklyn/neighborhood/Windsor Terrace",
          "Queens/neighborhood/Woodhaven",
          "Bronx/neighborhood/Woodlawn",
          "Queens/neighborhood/Woodside",
          "Bronx/neighborhood/Woodstock",
          "Bronx/borough",
          "Brooklyn/borough",
          "Manhattan/borough",
          "Queens/borough",
          "Staten Island/borough",
          "Bronx/neighborhood",
          "Brooklyn/neighborhood",
          "Manhattan/neighborhood",
          "Queens/neighborhood",
          "Brooklyn/submarket",
          "Manhattan/submarket",
          "Queens/submarket",
          "Bronx",
          "Brooklyn",
          "Manhattan",
          "Queens",
          "Staten Island"
         ],
         "labels": [
          "All Downtown",
          "All Midtown",
          "All Upper East Side",
          "All Upper Manhattan",
          "All Upper West Side",
          "Astoria",
          "Auburndale",
          "Bath Beach",
          "Battery Park City",
          "Bay Ridge",
          "Baychester",
          "Bayside",
          "Bedford Park",
          "Bedford-Stuyvesant",
          "Bellerose",
          "Belmont",
          "Bensonhurst",
          "Bergen Beach",
          "Boerum Hill",
          "Borough Park",
          "Briarwood",
          "Brighton Beach",
          "Bronx",
          "Bronxwood",
          "Brooklyn",
          "Brooklyn Heights",
          "Brookville",
          "Brownsville",
          "Bushwick",
          "Cambria Heights",
          "Canarsie",
          "Carroll Gardens",
          "Castle Hill",
          "Central Harlem",
          "Central Park South",
          "Central Queens",
          "Chelsea",
          "Chinatown",
          "City Island",
          "Civic Center",
          "Clearview",
          "Clinton Hill",
          "Co-op City",
          "Cobble Hill",
          "College Point",
          "Columbia St Waterfront District",
          "Concourse",
          "Coney Island",
          "Corona",
          "Country Club",
          "Crotona Park East",
          "Crown Heights",
          "DUMBO",
          "Ditmas Park",
          "Douglaston",
          "Downtown Brooklyn",
          "Dyker Heights",
          "East Brooklyn",
          "East Elmhurst",
          "East Flatbush",
          "East Harlem",
          "East New York",
          "East Tremont",
          "East Village",
          "Eastchester",
          "Edenwald",
          "Elmhurst",
          "Financial District",
          "Flatbush",
          "Flatiron",
          "Flatlands",
          "Floral Park",
          "Flushing",
          "Fordham",
          "Forest Hills",
          "Fort Greene",
          "Fresh Meadows",
          "Gerritsen Beach",
          "Glen Oaks",
          "Glendale",
          "Gowanus",
          "Gramercy Park",
          "Gravesend",
          "Greenpoint",
          "Greenwich Village",
          "Greenwood",
          "Hamilton Heights",
          "Highbridge",
          "Hillcrest",
          "Hollis",
          "Howard Beach",
          "Hunts Point",
          "Inwood",
          "Jackson Heights",
          "Jamaica",
          "Jamaica Estates",
          "Jamaica Hills",
          "Kensington",
          "Kew Gardens",
          "Kew Gardens Hills",
          "Kingsbridge",
          "Laconia",
          "Laurelton",
          "Little Italy",
          "Little Neck",
          "Long Island City",
          "Longwood",
          "Lower East Side",
          "Manhattan",
          "Manhattan Beach",
          "Marble Hill",
          "Marine Park",
          "Maspeth",
          "Melrose",
          "Middle Village",
          "Midtown",
          "Midtown East",
          "Midtown South",
          "Midtown West",
          "Midwood",
          "Mill Basin",
          "Morningside Heights",
          "Morris Heights",
          "Morris Park",
          "Morrisania",
          "Mott Haven",
          "New Hyde Park",
          "Nolita",
          "North Brooklyn",
          "North Corona",
          "Northeast Queens",
          "Northwest Brooklyn",
          "Northwest Queens",
          "Norwood",
          "Oakland Gardens",
          "Ocean Parkway",
          "Old Mill Basin",
          "Ozone Park",
          "Park Slope",
          "Parkchester",
          "Pelham Bay",
          "Pelham Gardens",
          "Pelham Parkway",
          "Pomonok",
          "Port Morris",
          "Prospect Heights",
          "Prospect Lefferts Gardens",
          "Prospect Park",
          "Prospect Park South",
          "Queens",
          "Queens Village",
          "Red Hook",
          "Rego Park",
          "Richmond Hill",
          "Ridgewood",
          "Riverdale",
          "Rockaway All",
          "Roosevelt Island",
          "Rosedale",
          "Schuylerville",
          "Seagate",
          "Sheepshead Bay",
          "Soho",
          "Soundview",
          "South Brooklyn",
          "South Jamaica",
          "South Ozone Park",
          "South Queens",
          "South Richmond Hill",
          "Springfield Gardens",
          "St. Albans",
          "Staten Island",
          "Stuyvesant Town/PCV",
          "Sunnyside",
          "Sunset Park",
          "The Rockaways",
          "Throgs Neck",
          "Tremont",
          "Tribeca",
          "University Heights",
          "Upper East Side",
          "Upper West Side",
          "Utopia",
          "Van Nest",
          "Wakefield",
          "Washington Heights",
          "West Harlem",
          "West Village",
          "Westchester Village",
          "Whitestone",
          "Williamsbridge",
          "Williamsburg",
          "Windsor Terrace",
          "Woodhaven",
          "Woodlawn",
          "Woodside",
          "Woodstock",
          "borough",
          "borough",
          "borough",
          "borough",
          "borough",
          "neighborhood",
          "neighborhood",
          "neighborhood",
          "neighborhood",
          "submarket",
          "submarket",
          "submarket",
          "Bronx",
          "Brooklyn",
          "Manhattan",
          "Queens",
          "Staten Island"
         ],
         "name": "",
         "parents": [
          "Manhattan/submarket",
          "Manhattan/submarket",
          "Manhattan/submarket",
          "Manhattan/submarket",
          "Manhattan/submarket",
          "Queens/neighborhood",
          "Queens/neighborhood",
          "Brooklyn/neighborhood",
          "Manhattan/neighborhood",
          "Brooklyn/neighborhood",
          "Bronx/neighborhood",
          "Queens/neighborhood",
          "Bronx/neighborhood",
          "Brooklyn/neighborhood",
          "Queens/neighborhood",
          "Bronx/neighborhood",
          "Brooklyn/neighborhood",
          "Brooklyn/neighborhood",
          "Brooklyn/neighborhood",
          "Brooklyn/neighborhood",
          "Queens/neighborhood",
          "Brooklyn/neighborhood",
          "Bronx/borough",
          "Bronx/neighborhood",
          "Brooklyn/borough",
          "Brooklyn/neighborhood",
          "Queens/neighborhood",
          "Brooklyn/neighborhood",
          "Brooklyn/neighborhood",
          "Queens/neighborhood",
          "Brooklyn/neighborhood",
          "Brooklyn/neighborhood",
          "Bronx/neighborhood",
          "Manhattan/neighborhood",
          "Manhattan/neighborhood",
          "Queens/submarket",
          "Manhattan/neighborhood",
          "Manhattan/neighborhood",
          "Bronx/neighborhood",
          "Manhattan/neighborhood",
          "Queens/neighborhood",
          "Brooklyn/neighborhood",
          "Bronx/neighborhood",
          "Brooklyn/neighborhood",
          "Queens/neighborhood",
          "Brooklyn/neighborhood",
          "Bronx/neighborhood",
          "Brooklyn/neighborhood",
          "Queens/neighborhood",
          "Bronx/neighborhood",
          "Bronx/neighborhood",
          "Brooklyn/neighborhood",
          "Brooklyn/neighborhood",
          "Brooklyn/neighborhood",
          "Queens/neighborhood",
          "Brooklyn/neighborhood",
          "Brooklyn/neighborhood",
          "Brooklyn/submarket",
          "Queens/neighborhood",
          "Brooklyn/neighborhood",
          "Manhattan/neighborhood",
          "Brooklyn/neighborhood",
          "Bronx/neighborhood",
          "Manhattan/neighborhood",
          "Bronx/neighborhood",
          "Bronx/neighborhood",
          "Queens/neighborhood",
          "Manhattan/neighborhood",
          "Brooklyn/neighborhood",
          "Manhattan/neighborhood",
          "Brooklyn/neighborhood",
          "Queens/neighborhood",
          "Queens/neighborhood",
          "Bronx/neighborhood",
          "Queens/neighborhood",
          "Brooklyn/neighborhood",
          "Queens/neighborhood",
          "Brooklyn/neighborhood",
          "Queens/neighborhood",
          "Queens/neighborhood",
          "Brooklyn/neighborhood",
          "Manhattan/neighborhood",
          "Brooklyn/neighborhood",
          "Brooklyn/neighborhood",
          "Manhattan/neighborhood",
          "Brooklyn/neighborhood",
          "Manhattan/neighborhood",
          "Bronx/neighborhood",
          "Queens/neighborhood",
          "Queens/neighborhood",
          "Queens/neighborhood",
          "Bronx/neighborhood",
          "Manhattan/neighborhood",
          "Queens/neighborhood",
          "Queens/neighborhood",
          "Queens/neighborhood",
          "Queens/neighborhood",
          "Brooklyn/neighborhood",
          "Queens/neighborhood",
          "Queens/neighborhood",
          "Bronx/neighborhood",
          "Bronx/neighborhood",
          "Queens/neighborhood",
          "Manhattan/neighborhood",
          "Queens/neighborhood",
          "Queens/neighborhood",
          "Bronx/neighborhood",
          "Manhattan/neighborhood",
          "Manhattan/borough",
          "Brooklyn/neighborhood",
          "Manhattan/neighborhood",
          "Brooklyn/neighborhood",
          "Queens/neighborhood",
          "Bronx/neighborhood",
          "Queens/neighborhood",
          "Manhattan/neighborhood",
          "Manhattan/neighborhood",
          "Manhattan/neighborhood",
          "Manhattan/neighborhood",
          "Brooklyn/neighborhood",
          "Brooklyn/neighborhood",
          "Manhattan/neighborhood",
          "Bronx/neighborhood",
          "Bronx/neighborhood",
          "Bronx/neighborhood",
          "Bronx/neighborhood",
          "Queens/neighborhood",
          "Manhattan/neighborhood",
          "Brooklyn/submarket",
          "Queens/neighborhood",
          "Queens/submarket",
          "Brooklyn/submarket",
          "Queens/submarket",
          "Bronx/neighborhood",
          "Queens/neighborhood",
          "Brooklyn/neighborhood",
          "Brooklyn/neighborhood",
          "Queens/neighborhood",
          "Brooklyn/neighborhood",
          "Bronx/neighborhood",
          "Bronx/neighborhood",
          "Bronx/neighborhood",
          "Bronx/neighborhood",
          "Queens/neighborhood",
          "Bronx/neighborhood",
          "Brooklyn/neighborhood",
          "Brooklyn/neighborhood",
          "Brooklyn/submarket",
          "Brooklyn/neighborhood",
          "Queens/borough",
          "Queens/neighborhood",
          "Brooklyn/neighborhood",
          "Queens/neighborhood",
          "Queens/neighborhood",
          "Queens/neighborhood",
          "Bronx/neighborhood",
          "Queens/neighborhood",
          "Manhattan/neighborhood",
          "Queens/neighborhood",
          "Bronx/neighborhood",
          "Brooklyn/neighborhood",
          "Brooklyn/neighborhood",
          "Manhattan/neighborhood",
          "Bronx/neighborhood",
          "Brooklyn/submarket",
          "Queens/neighborhood",
          "Queens/neighborhood",
          "Queens/submarket",
          "Queens/neighborhood",
          "Queens/neighborhood",
          "Queens/neighborhood",
          "Staten Island/borough",
          "Manhattan/neighborhood",
          "Queens/neighborhood",
          "Brooklyn/neighborhood",
          "Queens/submarket",
          "Bronx/neighborhood",
          "Bronx/neighborhood",
          "Manhattan/neighborhood",
          "Bronx/neighborhood",
          "Manhattan/neighborhood",
          "Manhattan/neighborhood",
          "Queens/neighborhood",
          "Bronx/neighborhood",
          "Bronx/neighborhood",
          "Manhattan/neighborhood",
          "Manhattan/neighborhood",
          "Manhattan/neighborhood",
          "Bronx/neighborhood",
          "Queens/neighborhood",
          "Bronx/neighborhood",
          "Brooklyn/neighborhood",
          "Brooklyn/neighborhood",
          "Queens/neighborhood",
          "Bronx/neighborhood",
          "Queens/neighborhood",
          "Bronx/neighborhood",
          "Bronx",
          "Brooklyn",
          "Manhattan",
          "Queens",
          "Staten Island",
          "Bronx",
          "Brooklyn",
          "Manhattan",
          "Queens",
          "Brooklyn",
          "Manhattan",
          "Queens",
          "",
          "",
          "",
          "",
          ""
         ],
         "type": "sunburst",
         "values": [
          929294,
          626068,
          448270,
          338680,
          388579,
          167636,
          1596,
          3856,
          36786,
          42747,
          69,
          4552,
          2940,
          185334,
          454,
          2601,
          6725,
          868,
          18104,
          6074,
          7890,
          8219,
          86884,
          1473,
          1422831,
          33465,
          94,
          4695,
          150267,
          54,
          2849,
          22841,
          1055,
          113244,
          13941,
          146047,
          124864,
          9480,
          118,
          122,
          326,
          40535,
          51,
          14326,
          736,
          5761,
          6081,
          4210,
          6685,
          182,
          575,
          123489,
          13918,
          19411,
          621,
          46249,
          4913,
          472873,
          555,
          19715,
          59257,
          9088,
          1530,
          155462,
          140,
          175,
          10255,
          119889,
          42885,
          63476,
          794,
          46,
          16656,
          3151,
          36502,
          31973,
          446,
          103,
          639,
          3994,
          13431,
          51674,
          8151,
          54925,
          67237,
          18551,
          40246,
          2142,
          534,
          365,
          580,
          372,
          16440,
          13554,
          4333,
          2091,
          780,
          18798,
          13177,
          3822,
          6067,
          111,
          196,
          11457,
          466,
          79692,
          562,
          72486,
          2739865,
          370,
          807,
          959,
          5816,
          979,
          2081,
          71646,
          292209,
          47239,
          201033,
          20847,
          253,
          17164,
          1281,
          3144,
          661,
          7547,
          15,
          21804,
          269677,
          1015,
          55535,
          245480,
          275690,
          3356,
          1423,
          4,
          160,
          392,
          91008,
          1874,
          1113,
          338,
          1046,
          470,
          223,
          24850,
          27425,
          170431,
          15459,
          496233,
          620,
          4877,
          21257,
          1125,
          34276,
          21772,
          4777,
          8754,
          193,
          304,
          157,
          16111,
          40933,
          1647,
          263355,
          219,
          244,
          14068,
          387,
          262,
          461,
          7152,
          12657,
          28362,
          15625,
          4777,
          1031,
          2380,
          48358,
          3340,
          448270,
          388579,
          105,
          541,
          1536,
          82274,
          9248,
          92609,
          378,
          1556,
          1091,
          214752,
          11689,
          1672,
          383,
          10057,
          1210,
          86884,
          1422831,
          2739865,
          496233,
          7152,
          86570,
          1421816,
          2739645,
          496112,
          1421816,
          2730891,
          496117,
          173454,
          4266463,
          8210401,
          1488462,
          7152
         ]
        }
       ],
       "layout": {
        "legend": {
         "tracegroupgap": 0
        },
        "margin": {
         "t": 60
        },
        "template": {
         "data": {
          "bar": [
           {
            "error_x": {
             "color": "#2a3f5f"
            },
            "error_y": {
             "color": "#2a3f5f"
            },
            "marker": {
             "line": {
              "color": "#E5ECF6",
              "width": 0.5
             },
             "pattern": {
              "fillmode": "overlay",
              "size": 10,
              "solidity": 0.2
             }
            },
            "type": "bar"
           }
          ],
          "barpolar": [
           {
            "marker": {
             "line": {
              "color": "#E5ECF6",
              "width": 0.5
             },
             "pattern": {
              "fillmode": "overlay",
              "size": 10,
              "solidity": 0.2
             }
            },
            "type": "barpolar"
           }
          ],
          "carpet": [
           {
            "aaxis": {
             "endlinecolor": "#2a3f5f",
             "gridcolor": "white",
             "linecolor": "white",
             "minorgridcolor": "white",
             "startlinecolor": "#2a3f5f"
            },
            "baxis": {
             "endlinecolor": "#2a3f5f",
             "gridcolor": "white",
             "linecolor": "white",
             "minorgridcolor": "white",
             "startlinecolor": "#2a3f5f"
            },
            "type": "carpet"
           }
          ],
          "choropleth": [
           {
            "colorbar": {
             "outlinewidth": 0,
             "ticks": ""
            },
            "type": "choropleth"
           }
          ],
          "contour": [
           {
            "colorbar": {
             "outlinewidth": 0,
             "ticks": ""
            },
            "colorscale": [
             [
              0,
              "#0d0887"
             ],
             [
              0.1111111111111111,
              "#46039f"
             ],
             [
              0.2222222222222222,
              "#7201a8"
             ],
             [
              0.3333333333333333,
              "#9c179e"
             ],
             [
              0.4444444444444444,
              "#bd3786"
             ],
             [
              0.5555555555555556,
              "#d8576b"
             ],
             [
              0.6666666666666666,
              "#ed7953"
             ],
             [
              0.7777777777777778,
              "#fb9f3a"
             ],
             [
              0.8888888888888888,
              "#fdca26"
             ],
             [
              1,
              "#f0f921"
             ]
            ],
            "type": "contour"
           }
          ],
          "contourcarpet": [
           {
            "colorbar": {
             "outlinewidth": 0,
             "ticks": ""
            },
            "type": "contourcarpet"
           }
          ],
          "heatmap": [
           {
            "colorbar": {
             "outlinewidth": 0,
             "ticks": ""
            },
            "colorscale": [
             [
              0,
              "#0d0887"
             ],
             [
              0.1111111111111111,
              "#46039f"
             ],
             [
              0.2222222222222222,
              "#7201a8"
             ],
             [
              0.3333333333333333,
              "#9c179e"
             ],
             [
              0.4444444444444444,
              "#bd3786"
             ],
             [
              0.5555555555555556,
              "#d8576b"
             ],
             [
              0.6666666666666666,
              "#ed7953"
             ],
             [
              0.7777777777777778,
              "#fb9f3a"
             ],
             [
              0.8888888888888888,
              "#fdca26"
             ],
             [
              1,
              "#f0f921"
             ]
            ],
            "type": "heatmap"
           }
          ],
          "heatmapgl": [
           {
            "colorbar": {
             "outlinewidth": 0,
             "ticks": ""
            },
            "colorscale": [
             [
              0,
              "#0d0887"
             ],
             [
              0.1111111111111111,
              "#46039f"
             ],
             [
              0.2222222222222222,
              "#7201a8"
             ],
             [
              0.3333333333333333,
              "#9c179e"
             ],
             [
              0.4444444444444444,
              "#bd3786"
             ],
             [
              0.5555555555555556,
              "#d8576b"
             ],
             [
              0.6666666666666666,
              "#ed7953"
             ],
             [
              0.7777777777777778,
              "#fb9f3a"
             ],
             [
              0.8888888888888888,
              "#fdca26"
             ],
             [
              1,
              "#f0f921"
             ]
            ],
            "type": "heatmapgl"
           }
          ],
          "histogram": [
           {
            "marker": {
             "pattern": {
              "fillmode": "overlay",
              "size": 10,
              "solidity": 0.2
             }
            },
            "type": "histogram"
           }
          ],
          "histogram2d": [
           {
            "colorbar": {
             "outlinewidth": 0,
             "ticks": ""
            },
            "colorscale": [
             [
              0,
              "#0d0887"
             ],
             [
              0.1111111111111111,
              "#46039f"
             ],
             [
              0.2222222222222222,
              "#7201a8"
             ],
             [
              0.3333333333333333,
              "#9c179e"
             ],
             [
              0.4444444444444444,
              "#bd3786"
             ],
             [
              0.5555555555555556,
              "#d8576b"
             ],
             [
              0.6666666666666666,
              "#ed7953"
             ],
             [
              0.7777777777777778,
              "#fb9f3a"
             ],
             [
              0.8888888888888888,
              "#fdca26"
             ],
             [
              1,
              "#f0f921"
             ]
            ],
            "type": "histogram2d"
           }
          ],
          "histogram2dcontour": [
           {
            "colorbar": {
             "outlinewidth": 0,
             "ticks": ""
            },
            "colorscale": [
             [
              0,
              "#0d0887"
             ],
             [
              0.1111111111111111,
              "#46039f"
             ],
             [
              0.2222222222222222,
              "#7201a8"
             ],
             [
              0.3333333333333333,
              "#9c179e"
             ],
             [
              0.4444444444444444,
              "#bd3786"
             ],
             [
              0.5555555555555556,
              "#d8576b"
             ],
             [
              0.6666666666666666,
              "#ed7953"
             ],
             [
              0.7777777777777778,
              "#fb9f3a"
             ],
             [
              0.8888888888888888,
              "#fdca26"
             ],
             [
              1,
              "#f0f921"
             ]
            ],
            "type": "histogram2dcontour"
           }
          ],
          "mesh3d": [
           {
            "colorbar": {
             "outlinewidth": 0,
             "ticks": ""
            },
            "type": "mesh3d"
           }
          ],
          "parcoords": [
           {
            "line": {
             "colorbar": {
              "outlinewidth": 0,
              "ticks": ""
             }
            },
            "type": "parcoords"
           }
          ],
          "pie": [
           {
            "automargin": true,
            "type": "pie"
           }
          ],
          "scatter": [
           {
            "fillpattern": {
             "fillmode": "overlay",
             "size": 10,
             "solidity": 0.2
            },
            "type": "scatter"
           }
          ],
          "scatter3d": [
           {
            "line": {
             "colorbar": {
              "outlinewidth": 0,
              "ticks": ""
             }
            },
            "marker": {
             "colorbar": {
              "outlinewidth": 0,
              "ticks": ""
             }
            },
            "type": "scatter3d"
           }
          ],
          "scattercarpet": [
           {
            "marker": {
             "colorbar": {
              "outlinewidth": 0,
              "ticks": ""
             }
            },
            "type": "scattercarpet"
           }
          ],
          "scattergeo": [
           {
            "marker": {
             "colorbar": {
              "outlinewidth": 0,
              "ticks": ""
             }
            },
            "type": "scattergeo"
           }
          ],
          "scattergl": [
           {
            "marker": {
             "colorbar": {
              "outlinewidth": 0,
              "ticks": ""
             }
            },
            "type": "scattergl"
           }
          ],
          "scattermapbox": [
           {
            "marker": {
             "colorbar": {
              "outlinewidth": 0,
              "ticks": ""
             }
            },
            "type": "scattermapbox"
           }
          ],
          "scatterpolar": [
           {
            "marker": {
             "colorbar": {
              "outlinewidth": 0,
              "ticks": ""
             }
            },
            "type": "scatterpolar"
           }
          ],
          "scatterpolargl": [
           {
            "marker": {
             "colorbar": {
              "outlinewidth": 0,
              "ticks": ""
             }
            },
            "type": "scatterpolargl"
           }
          ],
          "scatterternary": [
           {
            "marker": {
             "colorbar": {
              "outlinewidth": 0,
              "ticks": ""
             }
            },
            "type": "scatterternary"
           }
          ],
          "surface": [
           {
            "colorbar": {
             "outlinewidth": 0,
             "ticks": ""
            },
            "colorscale": [
             [
              0,
              "#0d0887"
             ],
             [
              0.1111111111111111,
              "#46039f"
             ],
             [
              0.2222222222222222,
              "#7201a8"
             ],
             [
              0.3333333333333333,
              "#9c179e"
             ],
             [
              0.4444444444444444,
              "#bd3786"
             ],
             [
              0.5555555555555556,
              "#d8576b"
             ],
             [
              0.6666666666666666,
              "#ed7953"
             ],
             [
              0.7777777777777778,
              "#fb9f3a"
             ],
             [
              0.8888888888888888,
              "#fdca26"
             ],
             [
              1,
              "#f0f921"
             ]
            ],
            "type": "surface"
           }
          ],
          "table": [
           {
            "cells": {
             "fill": {
              "color": "#EBF0F8"
             },
             "line": {
              "color": "white"
             }
            },
            "header": {
             "fill": {
              "color": "#C8D4E3"
             },
             "line": {
              "color": "white"
             }
            },
            "type": "table"
           }
          ]
         },
         "layout": {
          "annotationdefaults": {
           "arrowcolor": "#2a3f5f",
           "arrowhead": 0,
           "arrowwidth": 1
          },
          "autotypenumbers": "strict",
          "coloraxis": {
           "colorbar": {
            "outlinewidth": 0,
            "ticks": ""
           }
          },
          "colorscale": {
           "diverging": [
            [
             0,
             "#8e0152"
            ],
            [
             0.1,
             "#c51b7d"
            ],
            [
             0.2,
             "#de77ae"
            ],
            [
             0.3,
             "#f1b6da"
            ],
            [
             0.4,
             "#fde0ef"
            ],
            [
             0.5,
             "#f7f7f7"
            ],
            [
             0.6,
             "#e6f5d0"
            ],
            [
             0.7,
             "#b8e186"
            ],
            [
             0.8,
             "#7fbc41"
            ],
            [
             0.9,
             "#4d9221"
            ],
            [
             1,
             "#276419"
            ]
           ],
           "sequential": [
            [
             0,
             "#0d0887"
            ],
            [
             0.1111111111111111,
             "#46039f"
            ],
            [
             0.2222222222222222,
             "#7201a8"
            ],
            [
             0.3333333333333333,
             "#9c179e"
            ],
            [
             0.4444444444444444,
             "#bd3786"
            ],
            [
             0.5555555555555556,
             "#d8576b"
            ],
            [
             0.6666666666666666,
             "#ed7953"
            ],
            [
             0.7777777777777778,
             "#fb9f3a"
            ],
            [
             0.8888888888888888,
             "#fdca26"
            ],
            [
             1,
             "#f0f921"
            ]
           ],
           "sequentialminus": [
            [
             0,
             "#0d0887"
            ],
            [
             0.1111111111111111,
             "#46039f"
            ],
            [
             0.2222222222222222,
             "#7201a8"
            ],
            [
             0.3333333333333333,
             "#9c179e"
            ],
            [
             0.4444444444444444,
             "#bd3786"
            ],
            [
             0.5555555555555556,
             "#d8576b"
            ],
            [
             0.6666666666666666,
             "#ed7953"
            ],
            [
             0.7777777777777778,
             "#fb9f3a"
            ],
            [
             0.8888888888888888,
             "#fdca26"
            ],
            [
             1,
             "#f0f921"
            ]
           ]
          },
          "colorway": [
           "#636efa",
           "#EF553B",
           "#00cc96",
           "#ab63fa",
           "#FFA15A",
           "#19d3f3",
           "#FF6692",
           "#B6E880",
           "#FF97FF",
           "#FECB52"
          ],
          "font": {
           "color": "#2a3f5f"
          },
          "geo": {
           "bgcolor": "white",
           "lakecolor": "white",
           "landcolor": "#E5ECF6",
           "showlakes": true,
           "showland": true,
           "subunitcolor": "white"
          },
          "hoverlabel": {
           "align": "left"
          },
          "hovermode": "closest",
          "mapbox": {
           "style": "light"
          },
          "paper_bgcolor": "white",
          "plot_bgcolor": "#E5ECF6",
          "polar": {
           "angularaxis": {
            "gridcolor": "white",
            "linecolor": "white",
            "ticks": ""
           },
           "bgcolor": "#E5ECF6",
           "radialaxis": {
            "gridcolor": "white",
            "linecolor": "white",
            "ticks": ""
           }
          },
          "scene": {
           "xaxis": {
            "backgroundcolor": "#E5ECF6",
            "gridcolor": "white",
            "gridwidth": 2,
            "linecolor": "white",
            "showbackground": true,
            "ticks": "",
            "zerolinecolor": "white"
           },
           "yaxis": {
            "backgroundcolor": "#E5ECF6",
            "gridcolor": "white",
            "gridwidth": 2,
            "linecolor": "white",
            "showbackground": true,
            "ticks": "",
            "zerolinecolor": "white"
           },
           "zaxis": {
            "backgroundcolor": "#E5ECF6",
            "gridcolor": "white",
            "gridwidth": 2,
            "linecolor": "white",
            "showbackground": true,
            "ticks": "",
            "zerolinecolor": "white"
           }
          },
          "shapedefaults": {
           "line": {
            "color": "#2a3f5f"
           }
          },
          "ternary": {
           "aaxis": {
            "gridcolor": "white",
            "linecolor": "white",
            "ticks": ""
           },
           "baxis": {
            "gridcolor": "white",
            "linecolor": "white",
            "ticks": ""
           },
           "bgcolor": "#E5ECF6",
           "caxis": {
            "gridcolor": "white",
            "linecolor": "white",
            "ticks": ""
           }
          },
          "title": {
           "x": 0.05
          },
          "xaxis": {
           "automargin": true,
           "gridcolor": "white",
           "linecolor": "white",
           "ticks": "",
           "title": {
            "standoff": 15
           },
           "zerolinecolor": "white",
           "zerolinewidth": 2
          },
          "yaxis": {
           "automargin": true,
           "gridcolor": "white",
           "linecolor": "white",
           "ticks": "",
           "title": {
            "standoff": 15
           },
           "zerolinecolor": "white",
           "zerolinewidth": 2
          }
         }
        }
       }
      }
     },
     "metadata": {},
     "output_type": "display_data"
    }
   ],
   "source": [
    "fig.show()"
   ]
  },
  {
   "cell_type": "code",
   "execution_count": null,
   "metadata": {},
   "outputs": [],
   "source": []
  }
 ],
 "metadata": {
  "kernelspec": {
   "display_name": "Python 3.10.6 ('env': venv)",
   "language": "python",
   "name": "python3"
  },
  "language_info": {
   "codemirror_mode": {
    "name": "ipython",
    "version": 3
   },
   "file_extension": ".py",
   "mimetype": "text/x-python",
   "name": "python",
   "nbconvert_exporter": "python",
   "pygments_lexer": "ipython3",
   "version": "3.10.6"
  },
  "orig_nbformat": 4,
  "vscode": {
   "interpreter": {
    "hash": "c19fcd162a326df3fda5bc7ae087b26bf943f28b9810e3dede4b64f39ffc72b3"
   }
  }
 },
 "nbformat": 4,
 "nbformat_minor": 2
}

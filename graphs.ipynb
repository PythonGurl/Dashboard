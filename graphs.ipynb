{
 "cells": [
  {
   "cell_type": "code",
   "execution_count": 2,
   "metadata": {},
   "outputs": [],
   "source": [
    "import pandas as pd\n",
    "import plotly.express as px\n",
    "import plotly.graph_objects as go\n",
    "import read_data\n",
    "import mapping"
   ]
  },
  {
   "cell_type": "code",
   "execution_count": 3,
   "metadata": {},
   "outputs": [
    {
     "data": {
      "text/html": [
       "<div>\n",
       "<style scoped>\n",
       "    .dataframe tbody tr th:only-of-type {\n",
       "        vertical-align: middle;\n",
       "    }\n",
       "\n",
       "    .dataframe tbody tr th {\n",
       "        vertical-align: top;\n",
       "    }\n",
       "\n",
       "    .dataframe thead th {\n",
       "        text-align: right;\n",
       "    }\n",
       "</style>\n",
       "<table border=\"1\" class=\"dataframe\">\n",
       "  <thead>\n",
       "    <tr style=\"text-align: right;\">\n",
       "      <th></th>\n",
       "      <th>areaName</th>\n",
       "      <th>Borough</th>\n",
       "      <th>areaType</th>\n",
       "      <th>date</th>\n",
       "      <th>value</th>\n",
       "    </tr>\n",
       "  </thead>\n",
       "  <tbody>\n",
       "    <tr>\n",
       "      <th>0</th>\n",
       "      <td>All Downtown</td>\n",
       "      <td>Manhattan</td>\n",
       "      <td>submarket</td>\n",
       "      <td>2010-01-01</td>\n",
       "      <td>4268</td>\n",
       "    </tr>\n",
       "    <tr>\n",
       "      <th>1</th>\n",
       "      <td>All Midtown</td>\n",
       "      <td>Manhattan</td>\n",
       "      <td>submarket</td>\n",
       "      <td>2010-01-01</td>\n",
       "      <td>3065</td>\n",
       "    </tr>\n",
       "    <tr>\n",
       "      <th>2</th>\n",
       "      <td>All Upper East Side</td>\n",
       "      <td>Manhattan</td>\n",
       "      <td>submarket</td>\n",
       "      <td>2010-01-01</td>\n",
       "      <td>2549</td>\n",
       "    </tr>\n",
       "    <tr>\n",
       "      <th>3</th>\n",
       "      <td>All Upper Manhattan</td>\n",
       "      <td>Manhattan</td>\n",
       "      <td>submarket</td>\n",
       "      <td>2010-01-01</td>\n",
       "      <td>848</td>\n",
       "    </tr>\n",
       "    <tr>\n",
       "      <th>4</th>\n",
       "      <td>All Upper West Side</td>\n",
       "      <td>Manhattan</td>\n",
       "      <td>submarket</td>\n",
       "      <td>2010-01-01</td>\n",
       "      <td>2162</td>\n",
       "    </tr>\n",
       "    <tr>\n",
       "      <th>...</th>\n",
       "      <td>...</td>\n",
       "      <td>...</td>\n",
       "      <td>...</td>\n",
       "      <td>...</td>\n",
       "      <td>...</td>\n",
       "    </tr>\n",
       "    <tr>\n",
       "      <th>28954</th>\n",
       "      <td>Windsor Terrace</td>\n",
       "      <td>Brooklyn</td>\n",
       "      <td>neighborhood</td>\n",
       "      <td>2022-03-01</td>\n",
       "      <td>40</td>\n",
       "    </tr>\n",
       "    <tr>\n",
       "      <th>28955</th>\n",
       "      <td>Woodhaven</td>\n",
       "      <td>Queens</td>\n",
       "      <td>neighborhood</td>\n",
       "      <td>2022-03-01</td>\n",
       "      <td>28</td>\n",
       "    </tr>\n",
       "    <tr>\n",
       "      <th>28956</th>\n",
       "      <td>Woodlawn</td>\n",
       "      <td>Bronx</td>\n",
       "      <td>neighborhood</td>\n",
       "      <td>2022-03-01</td>\n",
       "      <td>10</td>\n",
       "    </tr>\n",
       "    <tr>\n",
       "      <th>28957</th>\n",
       "      <td>Woodside</td>\n",
       "      <td>Queens</td>\n",
       "      <td>neighborhood</td>\n",
       "      <td>2022-03-01</td>\n",
       "      <td>91</td>\n",
       "    </tr>\n",
       "    <tr>\n",
       "      <th>28958</th>\n",
       "      <td>Woodstock</td>\n",
       "      <td>Bronx</td>\n",
       "      <td>neighborhood</td>\n",
       "      <td>2022-03-01</td>\n",
       "      <td>8</td>\n",
       "    </tr>\n",
       "  </tbody>\n",
       "</table>\n",
       "<p>28959 rows × 5 columns</p>\n",
       "</div>"
      ],
      "text/plain": [
       "                  areaName    Borough      areaType       date  value\n",
       "0             All Downtown  Manhattan     submarket 2010-01-01   4268\n",
       "1              All Midtown  Manhattan     submarket 2010-01-01   3065\n",
       "2      All Upper East Side  Manhattan     submarket 2010-01-01   2549\n",
       "3      All Upper Manhattan  Manhattan     submarket 2010-01-01    848\n",
       "4      All Upper West Side  Manhattan     submarket 2010-01-01   2162\n",
       "...                    ...        ...           ...        ...    ...\n",
       "28954      Windsor Terrace   Brooklyn  neighborhood 2022-03-01     40\n",
       "28955            Woodhaven     Queens  neighborhood 2022-03-01     28\n",
       "28956             Woodlawn      Bronx  neighborhood 2022-03-01     10\n",
       "28957             Woodside     Queens  neighborhood 2022-03-01     91\n",
       "28958            Woodstock      Bronx  neighborhood 2022-03-01      8\n",
       "\n",
       "[28959 rows x 5 columns]"
      ]
     },
     "execution_count": 3,
     "metadata": {},
     "output_type": "execute_result"
    }
   ],
   "source": [
    "inventory_df = read_data.get_rental_inventory()\n",
    "inventory_df"
   ]
  },
  {
   "cell_type": "code",
   "execution_count": 4,
   "metadata": {},
   "outputs": [
    {
     "data": {
      "text/plain": [
       "dict_keys(['Manhattan', 'Queens', 'Brooklyn', 'Bronx'])"
      ]
     },
     "execution_count": 4,
     "metadata": {},
     "output_type": "execute_result"
    }
   ],
   "source": [
    "boroughs = mapping.borough_area().keys()\n",
    "boroughs"
   ]
  },
  {
   "cell_type": "code",
   "execution_count": 20,
   "metadata": {},
   "outputs": [
    {
     "data": {
      "text/html": [
       "<div>\n",
       "<style scoped>\n",
       "    .dataframe tbody tr th:only-of-type {\n",
       "        vertical-align: middle;\n",
       "    }\n",
       "\n",
       "    .dataframe tbody tr th {\n",
       "        vertical-align: top;\n",
       "    }\n",
       "\n",
       "    .dataframe thead th {\n",
       "        text-align: right;\n",
       "    }\n",
       "</style>\n",
       "<table border=\"1\" class=\"dataframe\">\n",
       "  <thead>\n",
       "    <tr style=\"text-align: right;\">\n",
       "      <th></th>\n",
       "      <th>areaName</th>\n",
       "      <th>Borough</th>\n",
       "      <th>areaType</th>\n",
       "      <th>date</th>\n",
       "      <th>value</th>\n",
       "    </tr>\n",
       "  </thead>\n",
       "  <tbody>\n",
       "    <tr>\n",
       "      <th>195</th>\n",
       "      <td>Woodside</td>\n",
       "      <td>Queens</td>\n",
       "      <td>neighborhood</td>\n",
       "      <td>2010-01-01</td>\n",
       "      <td>10</td>\n",
       "    </tr>\n",
       "    <tr>\n",
       "      <th>392</th>\n",
       "      <td>Woodside</td>\n",
       "      <td>Queens</td>\n",
       "      <td>neighborhood</td>\n",
       "      <td>2010-02-01</td>\n",
       "      <td>9</td>\n",
       "    </tr>\n",
       "    <tr>\n",
       "      <th>589</th>\n",
       "      <td>Woodside</td>\n",
       "      <td>Queens</td>\n",
       "      <td>neighborhood</td>\n",
       "      <td>2010-03-01</td>\n",
       "      <td>10</td>\n",
       "    </tr>\n",
       "    <tr>\n",
       "      <th>786</th>\n",
       "      <td>Woodside</td>\n",
       "      <td>Queens</td>\n",
       "      <td>neighborhood</td>\n",
       "      <td>2010-04-01</td>\n",
       "      <td>17</td>\n",
       "    </tr>\n",
       "    <tr>\n",
       "      <th>983</th>\n",
       "      <td>Woodside</td>\n",
       "      <td>Queens</td>\n",
       "      <td>neighborhood</td>\n",
       "      <td>2010-05-01</td>\n",
       "      <td>11</td>\n",
       "    </tr>\n",
       "    <tr>\n",
       "      <th>1180</th>\n",
       "      <td>Woodside</td>\n",
       "      <td>Queens</td>\n",
       "      <td>neighborhood</td>\n",
       "      <td>2010-06-01</td>\n",
       "      <td>12</td>\n",
       "    </tr>\n",
       "    <tr>\n",
       "      <th>1377</th>\n",
       "      <td>Woodside</td>\n",
       "      <td>Queens</td>\n",
       "      <td>neighborhood</td>\n",
       "      <td>2010-07-01</td>\n",
       "      <td>9</td>\n",
       "    </tr>\n",
       "    <tr>\n",
       "      <th>1574</th>\n",
       "      <td>Woodside</td>\n",
       "      <td>Queens</td>\n",
       "      <td>neighborhood</td>\n",
       "      <td>2010-08-01</td>\n",
       "      <td>5</td>\n",
       "    </tr>\n",
       "    <tr>\n",
       "      <th>1771</th>\n",
       "      <td>Woodside</td>\n",
       "      <td>Queens</td>\n",
       "      <td>neighborhood</td>\n",
       "      <td>2010-09-01</td>\n",
       "      <td>4</td>\n",
       "    </tr>\n",
       "    <tr>\n",
       "      <th>1968</th>\n",
       "      <td>Woodside</td>\n",
       "      <td>Queens</td>\n",
       "      <td>neighborhood</td>\n",
       "      <td>2010-10-01</td>\n",
       "      <td>3</td>\n",
       "    </tr>\n",
       "    <tr>\n",
       "      <th>2165</th>\n",
       "      <td>Woodside</td>\n",
       "      <td>Queens</td>\n",
       "      <td>neighborhood</td>\n",
       "      <td>2010-11-01</td>\n",
       "      <td>6</td>\n",
       "    </tr>\n",
       "    <tr>\n",
       "      <th>2362</th>\n",
       "      <td>Woodside</td>\n",
       "      <td>Queens</td>\n",
       "      <td>neighborhood</td>\n",
       "      <td>2010-12-01</td>\n",
       "      <td>7</td>\n",
       "    </tr>\n",
       "  </tbody>\n",
       "</table>\n",
       "</div>"
      ],
      "text/plain": [
       "      areaName Borough      areaType       date  value\n",
       "195   Woodside  Queens  neighborhood 2010-01-01     10\n",
       "392   Woodside  Queens  neighborhood 2010-02-01      9\n",
       "589   Woodside  Queens  neighborhood 2010-03-01     10\n",
       "786   Woodside  Queens  neighborhood 2010-04-01     17\n",
       "983   Woodside  Queens  neighborhood 2010-05-01     11\n",
       "1180  Woodside  Queens  neighborhood 2010-06-01     12\n",
       "1377  Woodside  Queens  neighborhood 2010-07-01      9\n",
       "1574  Woodside  Queens  neighborhood 2010-08-01      5\n",
       "1771  Woodside  Queens  neighborhood 2010-09-01      4\n",
       "1968  Woodside  Queens  neighborhood 2010-10-01      3\n",
       "2165  Woodside  Queens  neighborhood 2010-11-01      6\n",
       "2362  Woodside  Queens  neighborhood 2010-12-01      7"
      ]
     },
     "execution_count": 20,
     "metadata": {},
     "output_type": "execute_result"
    }
   ],
   "source": [
    "df = inventory_df[(inventory_df.date.dt.year == 2010) & (inventory_df.areaType != 'submarket')]\n",
    "df[(df.Borough == 'Queens') & (df.areaName == 'Woodside')]"
   ]
  },
  {
   "cell_type": "code",
   "execution_count": 10,
   "metadata": {},
   "outputs": [
    {
     "name": "stdout",
     "output_type": "stream",
     "text": [
      "{'Brooklyn', 'Manhattan', 'Queens', 'Bronx', 'Staten Island'}\n",
      "['Manhattan', 'Queens', 'Brooklyn', 'Bronx']\n"
     ]
    }
   ],
   "source": [
    "print(set(df['Borough']))\n",
    "print(list(boroughs))"
   ]
  },
  {
   "cell_type": "code",
   "execution_count": 21,
   "metadata": {},
   "outputs": [
    {
     "name": "stdout",
     "output_type": "stream",
     "text": [
      "character: 187\n",
      "parent: 187\n",
      "value: 187\n"
     ]
    },
    {
     "data": {
      "application/vnd.plotly.v1+json": {
       "config": {
        "plotlyServerURL": "https://plot.ly"
       },
       "data": [
        {
         "domain": {
          "x": [
           0,
           1
          ],
          "y": [
           0,
           1
          ]
         },
         "hovertemplate": "character=%{label}<br>value=%{value}<br>parent=%{parent}<extra></extra>",
         "labels": [
          "Brooklyn",
          "Manhattan",
          "Queens",
          "Bronx",
          "Staten Island",
          "Astoria",
          "Auburndale",
          "Bath Beach",
          "Battery Park City",
          "Bay Ridge",
          "Baychester",
          "Bayside",
          "Bedford Park",
          "Bedford-Stuyvesant",
          "Bellerose",
          "Belmont",
          "Bensonhurst",
          "Bergen Beach",
          "Boerum Hill",
          "Borough Park",
          "Briarwood",
          "Brighton Beach",
          "Bronx",
          "Bronxwood",
          "Brooklyn",
          "Brooklyn Heights",
          "Brookville",
          "Brownsville",
          "Bushwick",
          "Cambria Heights",
          "Canarsie",
          "Carroll Gardens",
          "Castle Hill",
          "Central Harlem",
          "Central Park South",
          "Chelsea",
          "Chinatown",
          "City Island",
          "Civic Center",
          "Clearview",
          "Clinton Hill",
          "Co-op City",
          "Cobble Hill",
          "College Point",
          "Columbia St Waterfront District",
          "Concourse",
          "Coney Island",
          "Corona",
          "Country Club",
          "Crotona Park East",
          "Crown Heights",
          "DUMBO",
          "Ditmas Park",
          "Douglaston",
          "Downtown Brooklyn",
          "Dyker Heights",
          "East Elmhurst",
          "East Flatbush",
          "East Harlem",
          "East New York",
          "East Tremont",
          "East Village",
          "Eastchester",
          "Edenwald",
          "Elmhurst",
          "Financial District",
          "Flatbush",
          "Flatiron",
          "Flatlands",
          "Floral Park",
          "Flushing",
          "Fordham",
          "Forest Hills",
          "Fort Greene",
          "Fresh Meadows",
          "Gerritsen Beach",
          "Glen Oaks",
          "Glendale",
          "Gowanus",
          "Gramercy Park",
          "Gravesend",
          "Greenpoint",
          "Greenwich Village",
          "Greenwood",
          "Hamilton Heights",
          "Highbridge",
          "Hillcrest",
          "Hollis",
          "Howard Beach",
          "Hunts Point",
          "Inwood",
          "Jackson Heights",
          "Jamaica",
          "Jamaica Estates",
          "Jamaica Hills",
          "Kensington",
          "Kew Gardens",
          "Kew Gardens Hills",
          "Kingsbridge",
          "Laconia",
          "Laurelton",
          "Little Italy",
          "Little Neck",
          "Long Island City",
          "Longwood",
          "Lower East Side",
          "Manhattan",
          "Manhattan Beach",
          "Marble Hill",
          "Marine Park",
          "Maspeth",
          "Melrose",
          "Middle Village",
          "Midtown",
          "Midtown East",
          "Midtown South",
          "Midtown West",
          "Midwood",
          "Mill Basin",
          "Morningside Heights",
          "Morris Heights",
          "Morris Park",
          "Morrisania",
          "Mott Haven",
          "New Hyde Park",
          "Nolita",
          "North Corona",
          "Norwood",
          "Oakland Gardens",
          "Ocean Parkway",
          "Old Mill Basin",
          "Ozone Park",
          "Park Slope",
          "Parkchester",
          "Pelham Bay",
          "Pelham Gardens",
          "Pelham Parkway",
          "Pomonok",
          "Port Morris",
          "Prospect Heights",
          "Prospect Lefferts Gardens",
          "Prospect Park South",
          "Queens",
          "Queens Village",
          "Red Hook",
          "Rego Park",
          "Richmond Hill",
          "Ridgewood",
          "Riverdale",
          "Rockaway All",
          "Roosevelt Island",
          "Rosedale",
          "Schuylerville",
          "Seagate",
          "Sheepshead Bay",
          "Soho",
          "Soundview",
          "South Jamaica",
          "South Ozone Park",
          "South Richmond Hill",
          "Springfield Gardens",
          "St. Albans",
          "Staten Island",
          "Stuyvesant Town/PCV",
          "Sunnyside",
          "Sunset Park",
          "Throgs Neck",
          "Tremont",
          "Tribeca",
          "University Heights",
          "Upper East Side",
          "Upper West Side",
          "Utopia",
          "Van Nest",
          "Wakefield",
          "Washington Heights",
          "West Harlem",
          "West Village",
          "Westchester Village",
          "Whitestone",
          "Williamsbridge",
          "Williamsburg",
          "Windsor Terrace",
          "Woodhaven",
          "Woodlawn",
          "Woodside",
          "Woodstock"
         ],
         "name": "",
         "parents": [
          "",
          "",
          "",
          "",
          "",
          "Queens",
          "Queens",
          "Brooklyn",
          "Manhattan",
          "Brooklyn",
          "Bronx",
          "Queens",
          "Bronx",
          "Brooklyn",
          "Queens",
          "Bronx",
          "Brooklyn",
          "Brooklyn",
          "Brooklyn",
          "Brooklyn",
          "Queens",
          "Brooklyn",
          "Bronx",
          "Bronx",
          "Brooklyn",
          "Brooklyn",
          "Queens",
          "Brooklyn",
          "Brooklyn",
          "Queens",
          "Brooklyn",
          "Brooklyn",
          "Bronx",
          "Manhattan",
          "Manhattan",
          "Manhattan",
          "Manhattan",
          "Bronx",
          "Manhattan",
          "Queens",
          "Brooklyn",
          "Bronx",
          "Brooklyn",
          "Queens",
          "Brooklyn",
          "Bronx",
          "Brooklyn",
          "Queens",
          "Bronx",
          "Bronx",
          "Brooklyn",
          "Brooklyn",
          "Brooklyn",
          "Queens",
          "Brooklyn",
          "Brooklyn",
          "Queens",
          "Brooklyn",
          "Manhattan",
          "Brooklyn",
          "Bronx",
          "Manhattan",
          "Bronx",
          "Bronx",
          "Queens",
          "Manhattan",
          "Brooklyn",
          "Manhattan",
          "Brooklyn",
          "Queens",
          "Queens",
          "Bronx",
          "Queens",
          "Brooklyn",
          "Queens",
          "Brooklyn",
          "Queens",
          "Queens",
          "Brooklyn",
          "Manhattan",
          "Brooklyn",
          "Brooklyn",
          "Manhattan",
          "Brooklyn",
          "Manhattan",
          "Bronx",
          "Queens",
          "Queens",
          "Queens",
          "Bronx",
          "Manhattan",
          "Queens",
          "Queens",
          "Queens",
          "Queens",
          "Brooklyn",
          "Queens",
          "Queens",
          "Bronx",
          "Bronx",
          "Queens",
          "Manhattan",
          "Queens",
          "Queens",
          "Bronx",
          "Manhattan",
          "Manhattan",
          "Brooklyn",
          "Manhattan",
          "Brooklyn",
          "Queens",
          "Bronx",
          "Queens",
          "Manhattan",
          "Manhattan",
          "Manhattan",
          "Manhattan",
          "Brooklyn",
          "Brooklyn",
          "Manhattan",
          "Bronx",
          "Bronx",
          "Bronx",
          "Bronx",
          "Queens",
          "Manhattan",
          "Queens",
          "Bronx",
          "Queens",
          "Brooklyn",
          "Brooklyn",
          "Queens",
          "Brooklyn",
          "Bronx",
          "Bronx",
          "Bronx",
          "Bronx",
          "Queens",
          "Bronx",
          "Brooklyn",
          "Brooklyn",
          "Brooklyn",
          "Queens",
          "Queens",
          "Brooklyn",
          "Queens",
          "Queens",
          "Queens",
          "Bronx",
          "Queens",
          "Manhattan",
          "Queens",
          "Bronx",
          "Brooklyn",
          "Brooklyn",
          "Manhattan",
          "Bronx",
          "Queens",
          "Queens",
          "Queens",
          "Queens",
          "Queens",
          "Staten Island",
          "Manhattan",
          "Queens",
          "Brooklyn",
          "Bronx",
          "Bronx",
          "Manhattan",
          "Bronx",
          "Manhattan",
          "Manhattan",
          "Queens",
          "Bronx",
          "Bronx",
          "Manhattan",
          "Manhattan",
          "Manhattan",
          "Bronx",
          "Queens",
          "Bronx",
          "Brooklyn",
          "Brooklyn",
          "Queens",
          "Bronx",
          "Queens",
          "Bronx"
         ],
         "type": "sunburst",
         "values": [
          0,
          0,
          0,
          0,
          0,
          102,
          2,
          2,
          213,
          47,
          0,
          12,
          2,
          132,
          1,
          1,
          0,
          1,
          45,
          5,
          7,
          5,
          165,
          0,
          1820,
          100,
          2,
          4,
          13,
          0,
          2,
          82,
          0,
          430,
          117,
          605,
          19,
          0,
          0,
          4,
          60,
          0,
          31,
          5,
          13,
          8,
          5,
          29,
          0,
          1,
          87,
          40,
          11,
          4,
          149,
          7,
          1,
          19,
          115,
          3,
          0,
          457,
          0,
          0,
          10,
          645,
          9,
          287,
          0,
          0,
          28,
          0,
          83,
          101,
          0,
          0,
          1,
          1,
          9,
          239,
          6,
          101,
          401,
          28,
          91,
          1,
          1,
          0,
          3,
          0,
          17,
          12,
          1,
          1,
          0,
          18,
          13,
          9,
          12,
          0,
          0,
          75,
          1,
          109,
          0,
          233,
          12922,
          0,
          0,
          0,
          1,
          0,
          1,
          484,
          1518,
          172,
          774,
          12,
          0,
          49,
          0,
          3,
          0,
          5,
          0,
          90,
          1,
          1,
          0,
          0,
          0,
          0,
          217,
          1,
          1,
          0,
          0,
          1,
          0,
          40,
          11,
          3,
          562,
          0,
          10,
          27,
          0,
          4,
          113,
          5,
          30,
          0,
          1,
          0,
          12,
          250,
          0,
          0,
          0,
          0,
          0,
          0,
          7,
          4,
          61,
          48,
          1,
          0,
          236,
          11,
          2549,
          2162,
          0,
          0,
          0,
          137,
          9,
          514,
          3,
          9,
          0,
          316,
          16,
          0,
          0,
          10,
          0
         ]
        }
       ],
       "layout": {
        "legend": {
         "tracegroupgap": 0
        },
        "margin": {
         "t": 60
        },
        "template": {
         "data": {
          "bar": [
           {
            "error_x": {
             "color": "#2a3f5f"
            },
            "error_y": {
             "color": "#2a3f5f"
            },
            "marker": {
             "line": {
              "color": "#E5ECF6",
              "width": 0.5
             },
             "pattern": {
              "fillmode": "overlay",
              "size": 10,
              "solidity": 0.2
             }
            },
            "type": "bar"
           }
          ],
          "barpolar": [
           {
            "marker": {
             "line": {
              "color": "#E5ECF6",
              "width": 0.5
             },
             "pattern": {
              "fillmode": "overlay",
              "size": 10,
              "solidity": 0.2
             }
            },
            "type": "barpolar"
           }
          ],
          "carpet": [
           {
            "aaxis": {
             "endlinecolor": "#2a3f5f",
             "gridcolor": "white",
             "linecolor": "white",
             "minorgridcolor": "white",
             "startlinecolor": "#2a3f5f"
            },
            "baxis": {
             "endlinecolor": "#2a3f5f",
             "gridcolor": "white",
             "linecolor": "white",
             "minorgridcolor": "white",
             "startlinecolor": "#2a3f5f"
            },
            "type": "carpet"
           }
          ],
          "choropleth": [
           {
            "colorbar": {
             "outlinewidth": 0,
             "ticks": ""
            },
            "type": "choropleth"
           }
          ],
          "contour": [
           {
            "colorbar": {
             "outlinewidth": 0,
             "ticks": ""
            },
            "colorscale": [
             [
              0,
              "#0d0887"
             ],
             [
              0.1111111111111111,
              "#46039f"
             ],
             [
              0.2222222222222222,
              "#7201a8"
             ],
             [
              0.3333333333333333,
              "#9c179e"
             ],
             [
              0.4444444444444444,
              "#bd3786"
             ],
             [
              0.5555555555555556,
              "#d8576b"
             ],
             [
              0.6666666666666666,
              "#ed7953"
             ],
             [
              0.7777777777777778,
              "#fb9f3a"
             ],
             [
              0.8888888888888888,
              "#fdca26"
             ],
             [
              1,
              "#f0f921"
             ]
            ],
            "type": "contour"
           }
          ],
          "contourcarpet": [
           {
            "colorbar": {
             "outlinewidth": 0,
             "ticks": ""
            },
            "type": "contourcarpet"
           }
          ],
          "heatmap": [
           {
            "colorbar": {
             "outlinewidth": 0,
             "ticks": ""
            },
            "colorscale": [
             [
              0,
              "#0d0887"
             ],
             [
              0.1111111111111111,
              "#46039f"
             ],
             [
              0.2222222222222222,
              "#7201a8"
             ],
             [
              0.3333333333333333,
              "#9c179e"
             ],
             [
              0.4444444444444444,
              "#bd3786"
             ],
             [
              0.5555555555555556,
              "#d8576b"
             ],
             [
              0.6666666666666666,
              "#ed7953"
             ],
             [
              0.7777777777777778,
              "#fb9f3a"
             ],
             [
              0.8888888888888888,
              "#fdca26"
             ],
             [
              1,
              "#f0f921"
             ]
            ],
            "type": "heatmap"
           }
          ],
          "heatmapgl": [
           {
            "colorbar": {
             "outlinewidth": 0,
             "ticks": ""
            },
            "colorscale": [
             [
              0,
              "#0d0887"
             ],
             [
              0.1111111111111111,
              "#46039f"
             ],
             [
              0.2222222222222222,
              "#7201a8"
             ],
             [
              0.3333333333333333,
              "#9c179e"
             ],
             [
              0.4444444444444444,
              "#bd3786"
             ],
             [
              0.5555555555555556,
              "#d8576b"
             ],
             [
              0.6666666666666666,
              "#ed7953"
             ],
             [
              0.7777777777777778,
              "#fb9f3a"
             ],
             [
              0.8888888888888888,
              "#fdca26"
             ],
             [
              1,
              "#f0f921"
             ]
            ],
            "type": "heatmapgl"
           }
          ],
          "histogram": [
           {
            "marker": {
             "pattern": {
              "fillmode": "overlay",
              "size": 10,
              "solidity": 0.2
             }
            },
            "type": "histogram"
           }
          ],
          "histogram2d": [
           {
            "colorbar": {
             "outlinewidth": 0,
             "ticks": ""
            },
            "colorscale": [
             [
              0,
              "#0d0887"
             ],
             [
              0.1111111111111111,
              "#46039f"
             ],
             [
              0.2222222222222222,
              "#7201a8"
             ],
             [
              0.3333333333333333,
              "#9c179e"
             ],
             [
              0.4444444444444444,
              "#bd3786"
             ],
             [
              0.5555555555555556,
              "#d8576b"
             ],
             [
              0.6666666666666666,
              "#ed7953"
             ],
             [
              0.7777777777777778,
              "#fb9f3a"
             ],
             [
              0.8888888888888888,
              "#fdca26"
             ],
             [
              1,
              "#f0f921"
             ]
            ],
            "type": "histogram2d"
           }
          ],
          "histogram2dcontour": [
           {
            "colorbar": {
             "outlinewidth": 0,
             "ticks": ""
            },
            "colorscale": [
             [
              0,
              "#0d0887"
             ],
             [
              0.1111111111111111,
              "#46039f"
             ],
             [
              0.2222222222222222,
              "#7201a8"
             ],
             [
              0.3333333333333333,
              "#9c179e"
             ],
             [
              0.4444444444444444,
              "#bd3786"
             ],
             [
              0.5555555555555556,
              "#d8576b"
             ],
             [
              0.6666666666666666,
              "#ed7953"
             ],
             [
              0.7777777777777778,
              "#fb9f3a"
             ],
             [
              0.8888888888888888,
              "#fdca26"
             ],
             [
              1,
              "#f0f921"
             ]
            ],
            "type": "histogram2dcontour"
           }
          ],
          "mesh3d": [
           {
            "colorbar": {
             "outlinewidth": 0,
             "ticks": ""
            },
            "type": "mesh3d"
           }
          ],
          "parcoords": [
           {
            "line": {
             "colorbar": {
              "outlinewidth": 0,
              "ticks": ""
             }
            },
            "type": "parcoords"
           }
          ],
          "pie": [
           {
            "automargin": true,
            "type": "pie"
           }
          ],
          "scatter": [
           {
            "fillpattern": {
             "fillmode": "overlay",
             "size": 10,
             "solidity": 0.2
            },
            "type": "scatter"
           }
          ],
          "scatter3d": [
           {
            "line": {
             "colorbar": {
              "outlinewidth": 0,
              "ticks": ""
             }
            },
            "marker": {
             "colorbar": {
              "outlinewidth": 0,
              "ticks": ""
             }
            },
            "type": "scatter3d"
           }
          ],
          "scattercarpet": [
           {
            "marker": {
             "colorbar": {
              "outlinewidth": 0,
              "ticks": ""
             }
            },
            "type": "scattercarpet"
           }
          ],
          "scattergeo": [
           {
            "marker": {
             "colorbar": {
              "outlinewidth": 0,
              "ticks": ""
             }
            },
            "type": "scattergeo"
           }
          ],
          "scattergl": [
           {
            "marker": {
             "colorbar": {
              "outlinewidth": 0,
              "ticks": ""
             }
            },
            "type": "scattergl"
           }
          ],
          "scattermapbox": [
           {
            "marker": {
             "colorbar": {
              "outlinewidth": 0,
              "ticks": ""
             }
            },
            "type": "scattermapbox"
           }
          ],
          "scatterpolar": [
           {
            "marker": {
             "colorbar": {
              "outlinewidth": 0,
              "ticks": ""
             }
            },
            "type": "scatterpolar"
           }
          ],
          "scatterpolargl": [
           {
            "marker": {
             "colorbar": {
              "outlinewidth": 0,
              "ticks": ""
             }
            },
            "type": "scatterpolargl"
           }
          ],
          "scatterternary": [
           {
            "marker": {
             "colorbar": {
              "outlinewidth": 0,
              "ticks": ""
             }
            },
            "type": "scatterternary"
           }
          ],
          "surface": [
           {
            "colorbar": {
             "outlinewidth": 0,
             "ticks": ""
            },
            "colorscale": [
             [
              0,
              "#0d0887"
             ],
             [
              0.1111111111111111,
              "#46039f"
             ],
             [
              0.2222222222222222,
              "#7201a8"
             ],
             [
              0.3333333333333333,
              "#9c179e"
             ],
             [
              0.4444444444444444,
              "#bd3786"
             ],
             [
              0.5555555555555556,
              "#d8576b"
             ],
             [
              0.6666666666666666,
              "#ed7953"
             ],
             [
              0.7777777777777778,
              "#fb9f3a"
             ],
             [
              0.8888888888888888,
              "#fdca26"
             ],
             [
              1,
              "#f0f921"
             ]
            ],
            "type": "surface"
           }
          ],
          "table": [
           {
            "cells": {
             "fill": {
              "color": "#EBF0F8"
             },
             "line": {
              "color": "white"
             }
            },
            "header": {
             "fill": {
              "color": "#C8D4E3"
             },
             "line": {
              "color": "white"
             }
            },
            "type": "table"
           }
          ]
         },
         "layout": {
          "annotationdefaults": {
           "arrowcolor": "#2a3f5f",
           "arrowhead": 0,
           "arrowwidth": 1
          },
          "autotypenumbers": "strict",
          "coloraxis": {
           "colorbar": {
            "outlinewidth": 0,
            "ticks": ""
           }
          },
          "colorscale": {
           "diverging": [
            [
             0,
             "#8e0152"
            ],
            [
             0.1,
             "#c51b7d"
            ],
            [
             0.2,
             "#de77ae"
            ],
            [
             0.3,
             "#f1b6da"
            ],
            [
             0.4,
             "#fde0ef"
            ],
            [
             0.5,
             "#f7f7f7"
            ],
            [
             0.6,
             "#e6f5d0"
            ],
            [
             0.7,
             "#b8e186"
            ],
            [
             0.8,
             "#7fbc41"
            ],
            [
             0.9,
             "#4d9221"
            ],
            [
             1,
             "#276419"
            ]
           ],
           "sequential": [
            [
             0,
             "#0d0887"
            ],
            [
             0.1111111111111111,
             "#46039f"
            ],
            [
             0.2222222222222222,
             "#7201a8"
            ],
            [
             0.3333333333333333,
             "#9c179e"
            ],
            [
             0.4444444444444444,
             "#bd3786"
            ],
            [
             0.5555555555555556,
             "#d8576b"
            ],
            [
             0.6666666666666666,
             "#ed7953"
            ],
            [
             0.7777777777777778,
             "#fb9f3a"
            ],
            [
             0.8888888888888888,
             "#fdca26"
            ],
            [
             1,
             "#f0f921"
            ]
           ],
           "sequentialminus": [
            [
             0,
             "#0d0887"
            ],
            [
             0.1111111111111111,
             "#46039f"
            ],
            [
             0.2222222222222222,
             "#7201a8"
            ],
            [
             0.3333333333333333,
             "#9c179e"
            ],
            [
             0.4444444444444444,
             "#bd3786"
            ],
            [
             0.5555555555555556,
             "#d8576b"
            ],
            [
             0.6666666666666666,
             "#ed7953"
            ],
            [
             0.7777777777777778,
             "#fb9f3a"
            ],
            [
             0.8888888888888888,
             "#fdca26"
            ],
            [
             1,
             "#f0f921"
            ]
           ]
          },
          "colorway": [
           "#636efa",
           "#EF553B",
           "#00cc96",
           "#ab63fa",
           "#FFA15A",
           "#19d3f3",
           "#FF6692",
           "#B6E880",
           "#FF97FF",
           "#FECB52"
          ],
          "font": {
           "color": "#2a3f5f"
          },
          "geo": {
           "bgcolor": "white",
           "lakecolor": "white",
           "landcolor": "#E5ECF6",
           "showlakes": true,
           "showland": true,
           "subunitcolor": "white"
          },
          "hoverlabel": {
           "align": "left"
          },
          "hovermode": "closest",
          "mapbox": {
           "style": "light"
          },
          "paper_bgcolor": "white",
          "plot_bgcolor": "#E5ECF6",
          "polar": {
           "angularaxis": {
            "gridcolor": "white",
            "linecolor": "white",
            "ticks": ""
           },
           "bgcolor": "#E5ECF6",
           "radialaxis": {
            "gridcolor": "white",
            "linecolor": "white",
            "ticks": ""
           }
          },
          "scene": {
           "xaxis": {
            "backgroundcolor": "#E5ECF6",
            "gridcolor": "white",
            "gridwidth": 2,
            "linecolor": "white",
            "showbackground": true,
            "ticks": "",
            "zerolinecolor": "white"
           },
           "yaxis": {
            "backgroundcolor": "#E5ECF6",
            "gridcolor": "white",
            "gridwidth": 2,
            "linecolor": "white",
            "showbackground": true,
            "ticks": "",
            "zerolinecolor": "white"
           },
           "zaxis": {
            "backgroundcolor": "#E5ECF6",
            "gridcolor": "white",
            "gridwidth": 2,
            "linecolor": "white",
            "showbackground": true,
            "ticks": "",
            "zerolinecolor": "white"
           }
          },
          "shapedefaults": {
           "line": {
            "color": "#2a3f5f"
           }
          },
          "ternary": {
           "aaxis": {
            "gridcolor": "white",
            "linecolor": "white",
            "ticks": ""
           },
           "baxis": {
            "gridcolor": "white",
            "linecolor": "white",
            "ticks": ""
           },
           "bgcolor": "#E5ECF6",
           "caxis": {
            "gridcolor": "white",
            "linecolor": "white",
            "ticks": ""
           }
          },
          "title": {
           "x": 0.05
          },
          "xaxis": {
           "automargin": true,
           "gridcolor": "white",
           "linecolor": "white",
           "ticks": "",
           "title": {
            "standoff": 15
           },
           "zerolinecolor": "white",
           "zerolinewidth": 2
          },
          "yaxis": {
           "automargin": true,
           "gridcolor": "white",
           "linecolor": "white",
           "ticks": "",
           "title": {
            "standoff": 15
           },
           "zerolinecolor": "white",
           "zerolinewidth": 2
          }
         }
        }
       }
      }
     },
     "metadata": {},
     "output_type": "display_data"
    }
   ],
   "source": [
    "df = inventory_df[(inventory_df.date.dt.year == 2010) & (inventory_df.date.dt.month == 1) & (inventory_df.areaType != 'submarket')]\n",
    "data = dict(\n",
    "    character=list(set(df['Borough'])) + df['areaName'].tolist(),\n",
    "    parent=[\"\"]*5 + df['Borough'].tolist(),\n",
    "    value=[0]*5 + df['value'].tolist()\n",
    "    # value=[0]*4 + list(range(1, 11))\n",
    ")\n",
    "# display(data)\n",
    "for key, lst in data.items():\n",
    "    print(f\"{key}: {len(lst)}\")\n",
    "fig = px.sunburst(\n",
    "    data,\n",
    "    names='character',\n",
    "    parents='parent',\n",
    "    values='value',\n",
    ")\n",
    "\n",
    "fig.show()"
   ]
  },
  {
   "cell_type": "code",
   "execution_count": 13,
   "metadata": {},
   "outputs": [
    {
     "name": "stdout",
     "output_type": "stream",
     "text": [
      "2189\n"
     ]
    }
   ],
   "source": [
    "print(len(list(set(df['Borough'])) + df['areaName'].tolist()))"
   ]
  },
  {
   "cell_type": "code",
   "execution_count": 22,
   "metadata": {},
   "outputs": [
    {
     "data": {
      "application/vnd.plotly.v1+json": {
       "config": {
        "plotlyServerURL": "https://plot.ly"
       },
       "data": [
        {
         "labels": [
          "Brooklyn",
          "Manhattan",
          "Queens",
          "Bronx",
          "Staten Island",
          "Astoria",
          "Auburndale",
          "Bath Beach",
          "Battery Park City",
          "Bay Ridge",
          "Baychester",
          "Bayside",
          "Bedford Park",
          "Bedford-Stuyvesant",
          "Bellerose",
          "Belmont",
          "Bensonhurst",
          "Bergen Beach",
          "Boerum Hill",
          "Borough Park",
          "Briarwood",
          "Brighton Beach",
          "Bronx",
          "Bronxwood",
          "Brooklyn",
          "Brooklyn Heights",
          "Brookville",
          "Brownsville",
          "Bushwick",
          "Cambria Heights",
          "Canarsie",
          "Carroll Gardens",
          "Castle Hill",
          "Central Harlem",
          "Central Park South",
          "Chelsea",
          "Chinatown",
          "City Island",
          "Civic Center",
          "Clearview",
          "Clinton Hill",
          "Co-op City",
          "Cobble Hill",
          "College Point",
          "Columbia St Waterfront District",
          "Concourse",
          "Coney Island",
          "Corona",
          "Country Club",
          "Crotona Park East",
          "Crown Heights",
          "DUMBO",
          "Ditmas Park",
          "Douglaston",
          "Downtown Brooklyn",
          "Dyker Heights",
          "East Elmhurst",
          "East Flatbush",
          "East Harlem",
          "East New York",
          "East Tremont",
          "East Village",
          "Eastchester",
          "Edenwald",
          "Elmhurst",
          "Financial District",
          "Flatbush",
          "Flatiron",
          "Flatlands",
          "Floral Park",
          "Flushing",
          "Fordham",
          "Forest Hills",
          "Fort Greene",
          "Fresh Meadows",
          "Gerritsen Beach",
          "Glen Oaks",
          "Glendale",
          "Gowanus",
          "Gramercy Park",
          "Gravesend",
          "Greenpoint",
          "Greenwich Village",
          "Greenwood",
          "Hamilton Heights",
          "Highbridge",
          "Hillcrest",
          "Hollis",
          "Howard Beach",
          "Hunts Point",
          "Inwood",
          "Jackson Heights",
          "Jamaica",
          "Jamaica Estates",
          "Jamaica Hills",
          "Kensington",
          "Kew Gardens",
          "Kew Gardens Hills",
          "Kingsbridge",
          "Laconia",
          "Laurelton",
          "Little Italy",
          "Little Neck",
          "Long Island City",
          "Longwood",
          "Lower East Side",
          "Manhattan",
          "Manhattan Beach",
          "Marble Hill",
          "Marine Park",
          "Maspeth",
          "Melrose",
          "Middle Village",
          "Midtown",
          "Midtown East",
          "Midtown South",
          "Midtown West",
          "Midwood",
          "Mill Basin",
          "Morningside Heights",
          "Morris Heights",
          "Morris Park",
          "Morrisania",
          "Mott Haven",
          "New Hyde Park",
          "Nolita",
          "North Corona",
          "Norwood",
          "Oakland Gardens",
          "Ocean Parkway",
          "Old Mill Basin",
          "Ozone Park",
          "Park Slope",
          "Parkchester",
          "Pelham Bay",
          "Pelham Gardens",
          "Pelham Parkway",
          "Pomonok",
          "Port Morris",
          "Prospect Heights",
          "Prospect Lefferts Gardens",
          "Prospect Park South",
          "Queens",
          "Queens Village",
          "Red Hook",
          "Rego Park",
          "Richmond Hill",
          "Ridgewood",
          "Riverdale",
          "Rockaway All",
          "Roosevelt Island",
          "Rosedale",
          "Schuylerville",
          "Seagate",
          "Sheepshead Bay",
          "Soho",
          "Soundview",
          "South Jamaica",
          "South Ozone Park",
          "South Richmond Hill",
          "Springfield Gardens",
          "St. Albans",
          "Staten Island",
          "Stuyvesant Town/PCV",
          "Sunnyside",
          "Sunset Park",
          "Throgs Neck",
          "Tremont",
          "Tribeca",
          "University Heights",
          "Upper East Side",
          "Upper West Side",
          "Utopia",
          "Van Nest",
          "Wakefield",
          "Washington Heights",
          "West Harlem",
          "West Village",
          "Westchester Village",
          "Whitestone",
          "Williamsbridge",
          "Williamsburg",
          "Windsor Terrace",
          "Woodhaven",
          "Woodlawn",
          "Woodside",
          "Woodstock"
         ],
         "parents": [
          "",
          "",
          "",
          "",
          "",
          "Queens",
          "Queens",
          "Brooklyn",
          "Manhattan",
          "Brooklyn",
          "Bronx",
          "Queens",
          "Bronx",
          "Brooklyn",
          "Queens",
          "Bronx",
          "Brooklyn",
          "Brooklyn",
          "Brooklyn",
          "Brooklyn",
          "Queens",
          "Brooklyn",
          "Bronx",
          "Bronx",
          "Brooklyn",
          "Brooklyn",
          "Queens",
          "Brooklyn",
          "Brooklyn",
          "Queens",
          "Brooklyn",
          "Brooklyn",
          "Bronx",
          "Manhattan",
          "Manhattan",
          "Manhattan",
          "Manhattan",
          "Bronx",
          "Manhattan",
          "Queens",
          "Brooklyn",
          "Bronx",
          "Brooklyn",
          "Queens",
          "Brooklyn",
          "Bronx",
          "Brooklyn",
          "Queens",
          "Bronx",
          "Bronx",
          "Brooklyn",
          "Brooklyn",
          "Brooklyn",
          "Queens",
          "Brooklyn",
          "Brooklyn",
          "Queens",
          "Brooklyn",
          "Manhattan",
          "Brooklyn",
          "Bronx",
          "Manhattan",
          "Bronx",
          "Bronx",
          "Queens",
          "Manhattan",
          "Brooklyn",
          "Manhattan",
          "Brooklyn",
          "Queens",
          "Queens",
          "Bronx",
          "Queens",
          "Brooklyn",
          "Queens",
          "Brooklyn",
          "Queens",
          "Queens",
          "Brooklyn",
          "Manhattan",
          "Brooklyn",
          "Brooklyn",
          "Manhattan",
          "Brooklyn",
          "Manhattan",
          "Bronx",
          "Queens",
          "Queens",
          "Queens",
          "Bronx",
          "Manhattan",
          "Queens",
          "Queens",
          "Queens",
          "Queens",
          "Brooklyn",
          "Queens",
          "Queens",
          "Bronx",
          "Bronx",
          "Queens",
          "Manhattan",
          "Queens",
          "Queens",
          "Bronx",
          "Manhattan",
          "Manhattan",
          "Brooklyn",
          "Manhattan",
          "Brooklyn",
          "Queens",
          "Bronx",
          "Queens",
          "Manhattan",
          "Manhattan",
          "Manhattan",
          "Manhattan",
          "Brooklyn",
          "Brooklyn",
          "Manhattan",
          "Bronx",
          "Bronx",
          "Bronx",
          "Bronx",
          "Queens",
          "Manhattan",
          "Queens",
          "Bronx",
          "Queens",
          "Brooklyn",
          "Brooklyn",
          "Queens",
          "Brooklyn",
          "Bronx",
          "Bronx",
          "Bronx",
          "Bronx",
          "Queens",
          "Bronx",
          "Brooklyn",
          "Brooklyn",
          "Brooklyn",
          "Queens",
          "Queens",
          "Brooklyn",
          "Queens",
          "Queens",
          "Queens",
          "Bronx",
          "Queens",
          "Manhattan",
          "Queens",
          "Bronx",
          "Brooklyn",
          "Brooklyn",
          "Manhattan",
          "Bronx",
          "Queens",
          "Queens",
          "Queens",
          "Queens",
          "Queens",
          "Staten Island",
          "Manhattan",
          "Queens",
          "Brooklyn",
          "Bronx",
          "Bronx",
          "Manhattan",
          "Bronx",
          "Manhattan",
          "Manhattan",
          "Queens",
          "Bronx",
          "Bronx",
          "Manhattan",
          "Manhattan",
          "Manhattan",
          "Bronx",
          "Queens",
          "Bronx",
          "Brooklyn",
          "Brooklyn",
          "Queens",
          "Bronx",
          "Queens",
          "Bronx"
         ],
         "type": "sunburst",
         "values": [
          0,
          0,
          0,
          0,
          0,
          102,
          2,
          2,
          213,
          47,
          0,
          12,
          2,
          132,
          1,
          1,
          0,
          1,
          45,
          5,
          7,
          5,
          165,
          0,
          1820,
          100,
          2,
          4,
          13,
          0,
          2,
          82,
          0,
          430,
          117,
          605,
          19,
          0,
          0,
          4,
          60,
          0,
          31,
          5,
          13,
          8,
          5,
          29,
          0,
          1,
          87,
          40,
          11,
          4,
          149,
          7,
          1,
          19,
          115,
          3,
          0,
          457,
          0,
          0,
          10,
          645,
          9,
          287,
          0,
          0,
          28,
          0,
          83,
          101,
          0,
          0,
          1,
          1,
          9,
          239,
          6,
          101,
          401,
          28,
          91,
          1,
          1,
          0,
          3,
          0,
          17,
          12,
          1,
          1,
          0,
          18,
          13,
          9,
          12,
          0,
          0,
          75,
          1,
          109,
          0,
          233,
          12922,
          0,
          0,
          0,
          1,
          0,
          1,
          484,
          1518,
          172,
          774,
          12,
          0,
          49,
          0,
          3,
          0,
          5,
          0,
          90,
          1,
          1,
          0,
          0,
          0,
          0,
          217,
          1,
          1,
          0,
          0,
          1,
          0,
          40,
          11,
          3,
          562,
          0,
          10,
          27,
          0,
          4,
          113,
          5,
          30,
          0,
          1,
          0,
          12,
          250,
          0,
          0,
          0,
          0,
          0,
          0,
          7,
          4,
          61,
          48,
          1,
          0,
          236,
          11,
          2549,
          2162,
          0,
          0,
          0,
          137,
          9,
          514,
          3,
          9,
          0,
          316,
          16,
          0,
          0,
          10,
          0
         ]
        }
       ],
       "layout": {
        "template": {
         "data": {
          "bar": [
           {
            "error_x": {
             "color": "#2a3f5f"
            },
            "error_y": {
             "color": "#2a3f5f"
            },
            "marker": {
             "line": {
              "color": "#E5ECF6",
              "width": 0.5
             },
             "pattern": {
              "fillmode": "overlay",
              "size": 10,
              "solidity": 0.2
             }
            },
            "type": "bar"
           }
          ],
          "barpolar": [
           {
            "marker": {
             "line": {
              "color": "#E5ECF6",
              "width": 0.5
             },
             "pattern": {
              "fillmode": "overlay",
              "size": 10,
              "solidity": 0.2
             }
            },
            "type": "barpolar"
           }
          ],
          "carpet": [
           {
            "aaxis": {
             "endlinecolor": "#2a3f5f",
             "gridcolor": "white",
             "linecolor": "white",
             "minorgridcolor": "white",
             "startlinecolor": "#2a3f5f"
            },
            "baxis": {
             "endlinecolor": "#2a3f5f",
             "gridcolor": "white",
             "linecolor": "white",
             "minorgridcolor": "white",
             "startlinecolor": "#2a3f5f"
            },
            "type": "carpet"
           }
          ],
          "choropleth": [
           {
            "colorbar": {
             "outlinewidth": 0,
             "ticks": ""
            },
            "type": "choropleth"
           }
          ],
          "contour": [
           {
            "colorbar": {
             "outlinewidth": 0,
             "ticks": ""
            },
            "colorscale": [
             [
              0,
              "#0d0887"
             ],
             [
              0.1111111111111111,
              "#46039f"
             ],
             [
              0.2222222222222222,
              "#7201a8"
             ],
             [
              0.3333333333333333,
              "#9c179e"
             ],
             [
              0.4444444444444444,
              "#bd3786"
             ],
             [
              0.5555555555555556,
              "#d8576b"
             ],
             [
              0.6666666666666666,
              "#ed7953"
             ],
             [
              0.7777777777777778,
              "#fb9f3a"
             ],
             [
              0.8888888888888888,
              "#fdca26"
             ],
             [
              1,
              "#f0f921"
             ]
            ],
            "type": "contour"
           }
          ],
          "contourcarpet": [
           {
            "colorbar": {
             "outlinewidth": 0,
             "ticks": ""
            },
            "type": "contourcarpet"
           }
          ],
          "heatmap": [
           {
            "colorbar": {
             "outlinewidth": 0,
             "ticks": ""
            },
            "colorscale": [
             [
              0,
              "#0d0887"
             ],
             [
              0.1111111111111111,
              "#46039f"
             ],
             [
              0.2222222222222222,
              "#7201a8"
             ],
             [
              0.3333333333333333,
              "#9c179e"
             ],
             [
              0.4444444444444444,
              "#bd3786"
             ],
             [
              0.5555555555555556,
              "#d8576b"
             ],
             [
              0.6666666666666666,
              "#ed7953"
             ],
             [
              0.7777777777777778,
              "#fb9f3a"
             ],
             [
              0.8888888888888888,
              "#fdca26"
             ],
             [
              1,
              "#f0f921"
             ]
            ],
            "type": "heatmap"
           }
          ],
          "heatmapgl": [
           {
            "colorbar": {
             "outlinewidth": 0,
             "ticks": ""
            },
            "colorscale": [
             [
              0,
              "#0d0887"
             ],
             [
              0.1111111111111111,
              "#46039f"
             ],
             [
              0.2222222222222222,
              "#7201a8"
             ],
             [
              0.3333333333333333,
              "#9c179e"
             ],
             [
              0.4444444444444444,
              "#bd3786"
             ],
             [
              0.5555555555555556,
              "#d8576b"
             ],
             [
              0.6666666666666666,
              "#ed7953"
             ],
             [
              0.7777777777777778,
              "#fb9f3a"
             ],
             [
              0.8888888888888888,
              "#fdca26"
             ],
             [
              1,
              "#f0f921"
             ]
            ],
            "type": "heatmapgl"
           }
          ],
          "histogram": [
           {
            "marker": {
             "pattern": {
              "fillmode": "overlay",
              "size": 10,
              "solidity": 0.2
             }
            },
            "type": "histogram"
           }
          ],
          "histogram2d": [
           {
            "colorbar": {
             "outlinewidth": 0,
             "ticks": ""
            },
            "colorscale": [
             [
              0,
              "#0d0887"
             ],
             [
              0.1111111111111111,
              "#46039f"
             ],
             [
              0.2222222222222222,
              "#7201a8"
             ],
             [
              0.3333333333333333,
              "#9c179e"
             ],
             [
              0.4444444444444444,
              "#bd3786"
             ],
             [
              0.5555555555555556,
              "#d8576b"
             ],
             [
              0.6666666666666666,
              "#ed7953"
             ],
             [
              0.7777777777777778,
              "#fb9f3a"
             ],
             [
              0.8888888888888888,
              "#fdca26"
             ],
             [
              1,
              "#f0f921"
             ]
            ],
            "type": "histogram2d"
           }
          ],
          "histogram2dcontour": [
           {
            "colorbar": {
             "outlinewidth": 0,
             "ticks": ""
            },
            "colorscale": [
             [
              0,
              "#0d0887"
             ],
             [
              0.1111111111111111,
              "#46039f"
             ],
             [
              0.2222222222222222,
              "#7201a8"
             ],
             [
              0.3333333333333333,
              "#9c179e"
             ],
             [
              0.4444444444444444,
              "#bd3786"
             ],
             [
              0.5555555555555556,
              "#d8576b"
             ],
             [
              0.6666666666666666,
              "#ed7953"
             ],
             [
              0.7777777777777778,
              "#fb9f3a"
             ],
             [
              0.8888888888888888,
              "#fdca26"
             ],
             [
              1,
              "#f0f921"
             ]
            ],
            "type": "histogram2dcontour"
           }
          ],
          "mesh3d": [
           {
            "colorbar": {
             "outlinewidth": 0,
             "ticks": ""
            },
            "type": "mesh3d"
           }
          ],
          "parcoords": [
           {
            "line": {
             "colorbar": {
              "outlinewidth": 0,
              "ticks": ""
             }
            },
            "type": "parcoords"
           }
          ],
          "pie": [
           {
            "automargin": true,
            "type": "pie"
           }
          ],
          "scatter": [
           {
            "fillpattern": {
             "fillmode": "overlay",
             "size": 10,
             "solidity": 0.2
            },
            "type": "scatter"
           }
          ],
          "scatter3d": [
           {
            "line": {
             "colorbar": {
              "outlinewidth": 0,
              "ticks": ""
             }
            },
            "marker": {
             "colorbar": {
              "outlinewidth": 0,
              "ticks": ""
             }
            },
            "type": "scatter3d"
           }
          ],
          "scattercarpet": [
           {
            "marker": {
             "colorbar": {
              "outlinewidth": 0,
              "ticks": ""
             }
            },
            "type": "scattercarpet"
           }
          ],
          "scattergeo": [
           {
            "marker": {
             "colorbar": {
              "outlinewidth": 0,
              "ticks": ""
             }
            },
            "type": "scattergeo"
           }
          ],
          "scattergl": [
           {
            "marker": {
             "colorbar": {
              "outlinewidth": 0,
              "ticks": ""
             }
            },
            "type": "scattergl"
           }
          ],
          "scattermapbox": [
           {
            "marker": {
             "colorbar": {
              "outlinewidth": 0,
              "ticks": ""
             }
            },
            "type": "scattermapbox"
           }
          ],
          "scatterpolar": [
           {
            "marker": {
             "colorbar": {
              "outlinewidth": 0,
              "ticks": ""
             }
            },
            "type": "scatterpolar"
           }
          ],
          "scatterpolargl": [
           {
            "marker": {
             "colorbar": {
              "outlinewidth": 0,
              "ticks": ""
             }
            },
            "type": "scatterpolargl"
           }
          ],
          "scatterternary": [
           {
            "marker": {
             "colorbar": {
              "outlinewidth": 0,
              "ticks": ""
             }
            },
            "type": "scatterternary"
           }
          ],
          "surface": [
           {
            "colorbar": {
             "outlinewidth": 0,
             "ticks": ""
            },
            "colorscale": [
             [
              0,
              "#0d0887"
             ],
             [
              0.1111111111111111,
              "#46039f"
             ],
             [
              0.2222222222222222,
              "#7201a8"
             ],
             [
              0.3333333333333333,
              "#9c179e"
             ],
             [
              0.4444444444444444,
              "#bd3786"
             ],
             [
              0.5555555555555556,
              "#d8576b"
             ],
             [
              0.6666666666666666,
              "#ed7953"
             ],
             [
              0.7777777777777778,
              "#fb9f3a"
             ],
             [
              0.8888888888888888,
              "#fdca26"
             ],
             [
              1,
              "#f0f921"
             ]
            ],
            "type": "surface"
           }
          ],
          "table": [
           {
            "cells": {
             "fill": {
              "color": "#EBF0F8"
             },
             "line": {
              "color": "white"
             }
            },
            "header": {
             "fill": {
              "color": "#C8D4E3"
             },
             "line": {
              "color": "white"
             }
            },
            "type": "table"
           }
          ]
         },
         "layout": {
          "annotationdefaults": {
           "arrowcolor": "#2a3f5f",
           "arrowhead": 0,
           "arrowwidth": 1
          },
          "autotypenumbers": "strict",
          "coloraxis": {
           "colorbar": {
            "outlinewidth": 0,
            "ticks": ""
           }
          },
          "colorscale": {
           "diverging": [
            [
             0,
             "#8e0152"
            ],
            [
             0.1,
             "#c51b7d"
            ],
            [
             0.2,
             "#de77ae"
            ],
            [
             0.3,
             "#f1b6da"
            ],
            [
             0.4,
             "#fde0ef"
            ],
            [
             0.5,
             "#f7f7f7"
            ],
            [
             0.6,
             "#e6f5d0"
            ],
            [
             0.7,
             "#b8e186"
            ],
            [
             0.8,
             "#7fbc41"
            ],
            [
             0.9,
             "#4d9221"
            ],
            [
             1,
             "#276419"
            ]
           ],
           "sequential": [
            [
             0,
             "#0d0887"
            ],
            [
             0.1111111111111111,
             "#46039f"
            ],
            [
             0.2222222222222222,
             "#7201a8"
            ],
            [
             0.3333333333333333,
             "#9c179e"
            ],
            [
             0.4444444444444444,
             "#bd3786"
            ],
            [
             0.5555555555555556,
             "#d8576b"
            ],
            [
             0.6666666666666666,
             "#ed7953"
            ],
            [
             0.7777777777777778,
             "#fb9f3a"
            ],
            [
             0.8888888888888888,
             "#fdca26"
            ],
            [
             1,
             "#f0f921"
            ]
           ],
           "sequentialminus": [
            [
             0,
             "#0d0887"
            ],
            [
             0.1111111111111111,
             "#46039f"
            ],
            [
             0.2222222222222222,
             "#7201a8"
            ],
            [
             0.3333333333333333,
             "#9c179e"
            ],
            [
             0.4444444444444444,
             "#bd3786"
            ],
            [
             0.5555555555555556,
             "#d8576b"
            ],
            [
             0.6666666666666666,
             "#ed7953"
            ],
            [
             0.7777777777777778,
             "#fb9f3a"
            ],
            [
             0.8888888888888888,
             "#fdca26"
            ],
            [
             1,
             "#f0f921"
            ]
           ]
          },
          "colorway": [
           "#636efa",
           "#EF553B",
           "#00cc96",
           "#ab63fa",
           "#FFA15A",
           "#19d3f3",
           "#FF6692",
           "#B6E880",
           "#FF97FF",
           "#FECB52"
          ],
          "font": {
           "color": "#2a3f5f"
          },
          "geo": {
           "bgcolor": "white",
           "lakecolor": "white",
           "landcolor": "#E5ECF6",
           "showlakes": true,
           "showland": true,
           "subunitcolor": "white"
          },
          "hoverlabel": {
           "align": "left"
          },
          "hovermode": "closest",
          "mapbox": {
           "style": "light"
          },
          "paper_bgcolor": "white",
          "plot_bgcolor": "#E5ECF6",
          "polar": {
           "angularaxis": {
            "gridcolor": "white",
            "linecolor": "white",
            "ticks": ""
           },
           "bgcolor": "#E5ECF6",
           "radialaxis": {
            "gridcolor": "white",
            "linecolor": "white",
            "ticks": ""
           }
          },
          "scene": {
           "xaxis": {
            "backgroundcolor": "#E5ECF6",
            "gridcolor": "white",
            "gridwidth": 2,
            "linecolor": "white",
            "showbackground": true,
            "ticks": "",
            "zerolinecolor": "white"
           },
           "yaxis": {
            "backgroundcolor": "#E5ECF6",
            "gridcolor": "white",
            "gridwidth": 2,
            "linecolor": "white",
            "showbackground": true,
            "ticks": "",
            "zerolinecolor": "white"
           },
           "zaxis": {
            "backgroundcolor": "#E5ECF6",
            "gridcolor": "white",
            "gridwidth": 2,
            "linecolor": "white",
            "showbackground": true,
            "ticks": "",
            "zerolinecolor": "white"
           }
          },
          "shapedefaults": {
           "line": {
            "color": "#2a3f5f"
           }
          },
          "ternary": {
           "aaxis": {
            "gridcolor": "white",
            "linecolor": "white",
            "ticks": ""
           },
           "baxis": {
            "gridcolor": "white",
            "linecolor": "white",
            "ticks": ""
           },
           "bgcolor": "#E5ECF6",
           "caxis": {
            "gridcolor": "white",
            "linecolor": "white",
            "ticks": ""
           }
          },
          "title": {
           "x": 0.05
          },
          "xaxis": {
           "automargin": true,
           "gridcolor": "white",
           "linecolor": "white",
           "ticks": "",
           "title": {
            "standoff": 15
           },
           "zerolinecolor": "white",
           "zerolinewidth": 2
          },
          "yaxis": {
           "automargin": true,
           "gridcolor": "white",
           "linecolor": "white",
           "ticks": "",
           "title": {
            "standoff": 15
           },
           "zerolinecolor": "white",
           "zerolinewidth": 2
          }
         }
        }
       }
      }
     },
     "metadata": {},
     "output_type": "display_data"
    }
   ],
   "source": [
    "fig = go.Figure(go.Sunburst(\n",
    "    labels=list(set(df['Borough'])) + df['areaName'].tolist(),\n",
    "    parents=[\"\"]*5 + df['Borough'].tolist(),\n",
    "    values=[0]*5 + df['value'].tolist(),\n",
    "))\n",
    "\n",
    "fig.show()"
   ]
  },
  {
   "cell_type": "code",
   "execution_count": 24,
   "metadata": {},
   "outputs": [
    {
     "data": {
      "application/vnd.plotly.v1+json": {
       "config": {
        "plotlyServerURL": "https://plot.ly"
       },
       "data": [
        {
         "domain": {
          "x": [
           0,
           1
          ],
          "y": [
           0,
           1
          ]
         },
         "hovertemplate": "character=%{label}<br>value=%{value}<br>parent=%{parent}<extra></extra>",
         "labels": [
          "Eve",
          "Cain",
          "Seth",
          "Enos",
          "Noam",
          "Abel",
          "Awan",
          "Enoch",
          "Azura"
         ],
         "name": "",
         "parents": [
          "",
          "Eve",
          "Eve",
          "Seth",
          "Seth",
          "Eve",
          "Eve",
          "Awan",
          "Eve"
         ],
         "type": "sunburst",
         "values": [
          10,
          14,
          12,
          10,
          2,
          6,
          6,
          4,
          4
         ]
        }
       ],
       "layout": {
        "legend": {
         "tracegroupgap": 0
        },
        "margin": {
         "t": 60
        },
        "template": {
         "data": {
          "bar": [
           {
            "error_x": {
             "color": "#2a3f5f"
            },
            "error_y": {
             "color": "#2a3f5f"
            },
            "marker": {
             "line": {
              "color": "#E5ECF6",
              "width": 0.5
             },
             "pattern": {
              "fillmode": "overlay",
              "size": 10,
              "solidity": 0.2
             }
            },
            "type": "bar"
           }
          ],
          "barpolar": [
           {
            "marker": {
             "line": {
              "color": "#E5ECF6",
              "width": 0.5
             },
             "pattern": {
              "fillmode": "overlay",
              "size": 10,
              "solidity": 0.2
             }
            },
            "type": "barpolar"
           }
          ],
          "carpet": [
           {
            "aaxis": {
             "endlinecolor": "#2a3f5f",
             "gridcolor": "white",
             "linecolor": "white",
             "minorgridcolor": "white",
             "startlinecolor": "#2a3f5f"
            },
            "baxis": {
             "endlinecolor": "#2a3f5f",
             "gridcolor": "white",
             "linecolor": "white",
             "minorgridcolor": "white",
             "startlinecolor": "#2a3f5f"
            },
            "type": "carpet"
           }
          ],
          "choropleth": [
           {
            "colorbar": {
             "outlinewidth": 0,
             "ticks": ""
            },
            "type": "choropleth"
           }
          ],
          "contour": [
           {
            "colorbar": {
             "outlinewidth": 0,
             "ticks": ""
            },
            "colorscale": [
             [
              0,
              "#0d0887"
             ],
             [
              0.1111111111111111,
              "#46039f"
             ],
             [
              0.2222222222222222,
              "#7201a8"
             ],
             [
              0.3333333333333333,
              "#9c179e"
             ],
             [
              0.4444444444444444,
              "#bd3786"
             ],
             [
              0.5555555555555556,
              "#d8576b"
             ],
             [
              0.6666666666666666,
              "#ed7953"
             ],
             [
              0.7777777777777778,
              "#fb9f3a"
             ],
             [
              0.8888888888888888,
              "#fdca26"
             ],
             [
              1,
              "#f0f921"
             ]
            ],
            "type": "contour"
           }
          ],
          "contourcarpet": [
           {
            "colorbar": {
             "outlinewidth": 0,
             "ticks": ""
            },
            "type": "contourcarpet"
           }
          ],
          "heatmap": [
           {
            "colorbar": {
             "outlinewidth": 0,
             "ticks": ""
            },
            "colorscale": [
             [
              0,
              "#0d0887"
             ],
             [
              0.1111111111111111,
              "#46039f"
             ],
             [
              0.2222222222222222,
              "#7201a8"
             ],
             [
              0.3333333333333333,
              "#9c179e"
             ],
             [
              0.4444444444444444,
              "#bd3786"
             ],
             [
              0.5555555555555556,
              "#d8576b"
             ],
             [
              0.6666666666666666,
              "#ed7953"
             ],
             [
              0.7777777777777778,
              "#fb9f3a"
             ],
             [
              0.8888888888888888,
              "#fdca26"
             ],
             [
              1,
              "#f0f921"
             ]
            ],
            "type": "heatmap"
           }
          ],
          "heatmapgl": [
           {
            "colorbar": {
             "outlinewidth": 0,
             "ticks": ""
            },
            "colorscale": [
             [
              0,
              "#0d0887"
             ],
             [
              0.1111111111111111,
              "#46039f"
             ],
             [
              0.2222222222222222,
              "#7201a8"
             ],
             [
              0.3333333333333333,
              "#9c179e"
             ],
             [
              0.4444444444444444,
              "#bd3786"
             ],
             [
              0.5555555555555556,
              "#d8576b"
             ],
             [
              0.6666666666666666,
              "#ed7953"
             ],
             [
              0.7777777777777778,
              "#fb9f3a"
             ],
             [
              0.8888888888888888,
              "#fdca26"
             ],
             [
              1,
              "#f0f921"
             ]
            ],
            "type": "heatmapgl"
           }
          ],
          "histogram": [
           {
            "marker": {
             "pattern": {
              "fillmode": "overlay",
              "size": 10,
              "solidity": 0.2
             }
            },
            "type": "histogram"
           }
          ],
          "histogram2d": [
           {
            "colorbar": {
             "outlinewidth": 0,
             "ticks": ""
            },
            "colorscale": [
             [
              0,
              "#0d0887"
             ],
             [
              0.1111111111111111,
              "#46039f"
             ],
             [
              0.2222222222222222,
              "#7201a8"
             ],
             [
              0.3333333333333333,
              "#9c179e"
             ],
             [
              0.4444444444444444,
              "#bd3786"
             ],
             [
              0.5555555555555556,
              "#d8576b"
             ],
             [
              0.6666666666666666,
              "#ed7953"
             ],
             [
              0.7777777777777778,
              "#fb9f3a"
             ],
             [
              0.8888888888888888,
              "#fdca26"
             ],
             [
              1,
              "#f0f921"
             ]
            ],
            "type": "histogram2d"
           }
          ],
          "histogram2dcontour": [
           {
            "colorbar": {
             "outlinewidth": 0,
             "ticks": ""
            },
            "colorscale": [
             [
              0,
              "#0d0887"
             ],
             [
              0.1111111111111111,
              "#46039f"
             ],
             [
              0.2222222222222222,
              "#7201a8"
             ],
             [
              0.3333333333333333,
              "#9c179e"
             ],
             [
              0.4444444444444444,
              "#bd3786"
             ],
             [
              0.5555555555555556,
              "#d8576b"
             ],
             [
              0.6666666666666666,
              "#ed7953"
             ],
             [
              0.7777777777777778,
              "#fb9f3a"
             ],
             [
              0.8888888888888888,
              "#fdca26"
             ],
             [
              1,
              "#f0f921"
             ]
            ],
            "type": "histogram2dcontour"
           }
          ],
          "mesh3d": [
           {
            "colorbar": {
             "outlinewidth": 0,
             "ticks": ""
            },
            "type": "mesh3d"
           }
          ],
          "parcoords": [
           {
            "line": {
             "colorbar": {
              "outlinewidth": 0,
              "ticks": ""
             }
            },
            "type": "parcoords"
           }
          ],
          "pie": [
           {
            "automargin": true,
            "type": "pie"
           }
          ],
          "scatter": [
           {
            "fillpattern": {
             "fillmode": "overlay",
             "size": 10,
             "solidity": 0.2
            },
            "type": "scatter"
           }
          ],
          "scatter3d": [
           {
            "line": {
             "colorbar": {
              "outlinewidth": 0,
              "ticks": ""
             }
            },
            "marker": {
             "colorbar": {
              "outlinewidth": 0,
              "ticks": ""
             }
            },
            "type": "scatter3d"
           }
          ],
          "scattercarpet": [
           {
            "marker": {
             "colorbar": {
              "outlinewidth": 0,
              "ticks": ""
             }
            },
            "type": "scattercarpet"
           }
          ],
          "scattergeo": [
           {
            "marker": {
             "colorbar": {
              "outlinewidth": 0,
              "ticks": ""
             }
            },
            "type": "scattergeo"
           }
          ],
          "scattergl": [
           {
            "marker": {
             "colorbar": {
              "outlinewidth": 0,
              "ticks": ""
             }
            },
            "type": "scattergl"
           }
          ],
          "scattermapbox": [
           {
            "marker": {
             "colorbar": {
              "outlinewidth": 0,
              "ticks": ""
             }
            },
            "type": "scattermapbox"
           }
          ],
          "scatterpolar": [
           {
            "marker": {
             "colorbar": {
              "outlinewidth": 0,
              "ticks": ""
             }
            },
            "type": "scatterpolar"
           }
          ],
          "scatterpolargl": [
           {
            "marker": {
             "colorbar": {
              "outlinewidth": 0,
              "ticks": ""
             }
            },
            "type": "scatterpolargl"
           }
          ],
          "scatterternary": [
           {
            "marker": {
             "colorbar": {
              "outlinewidth": 0,
              "ticks": ""
             }
            },
            "type": "scatterternary"
           }
          ],
          "surface": [
           {
            "colorbar": {
             "outlinewidth": 0,
             "ticks": ""
            },
            "colorscale": [
             [
              0,
              "#0d0887"
             ],
             [
              0.1111111111111111,
              "#46039f"
             ],
             [
              0.2222222222222222,
              "#7201a8"
             ],
             [
              0.3333333333333333,
              "#9c179e"
             ],
             [
              0.4444444444444444,
              "#bd3786"
             ],
             [
              0.5555555555555556,
              "#d8576b"
             ],
             [
              0.6666666666666666,
              "#ed7953"
             ],
             [
              0.7777777777777778,
              "#fb9f3a"
             ],
             [
              0.8888888888888888,
              "#fdca26"
             ],
             [
              1,
              "#f0f921"
             ]
            ],
            "type": "surface"
           }
          ],
          "table": [
           {
            "cells": {
             "fill": {
              "color": "#EBF0F8"
             },
             "line": {
              "color": "white"
             }
            },
            "header": {
             "fill": {
              "color": "#C8D4E3"
             },
             "line": {
              "color": "white"
             }
            },
            "type": "table"
           }
          ]
         },
         "layout": {
          "annotationdefaults": {
           "arrowcolor": "#2a3f5f",
           "arrowhead": 0,
           "arrowwidth": 1
          },
          "autotypenumbers": "strict",
          "coloraxis": {
           "colorbar": {
            "outlinewidth": 0,
            "ticks": ""
           }
          },
          "colorscale": {
           "diverging": [
            [
             0,
             "#8e0152"
            ],
            [
             0.1,
             "#c51b7d"
            ],
            [
             0.2,
             "#de77ae"
            ],
            [
             0.3,
             "#f1b6da"
            ],
            [
             0.4,
             "#fde0ef"
            ],
            [
             0.5,
             "#f7f7f7"
            ],
            [
             0.6,
             "#e6f5d0"
            ],
            [
             0.7,
             "#b8e186"
            ],
            [
             0.8,
             "#7fbc41"
            ],
            [
             0.9,
             "#4d9221"
            ],
            [
             1,
             "#276419"
            ]
           ],
           "sequential": [
            [
             0,
             "#0d0887"
            ],
            [
             0.1111111111111111,
             "#46039f"
            ],
            [
             0.2222222222222222,
             "#7201a8"
            ],
            [
             0.3333333333333333,
             "#9c179e"
            ],
            [
             0.4444444444444444,
             "#bd3786"
            ],
            [
             0.5555555555555556,
             "#d8576b"
            ],
            [
             0.6666666666666666,
             "#ed7953"
            ],
            [
             0.7777777777777778,
             "#fb9f3a"
            ],
            [
             0.8888888888888888,
             "#fdca26"
            ],
            [
             1,
             "#f0f921"
            ]
           ],
           "sequentialminus": [
            [
             0,
             "#0d0887"
            ],
            [
             0.1111111111111111,
             "#46039f"
            ],
            [
             0.2222222222222222,
             "#7201a8"
            ],
            [
             0.3333333333333333,
             "#9c179e"
            ],
            [
             0.4444444444444444,
             "#bd3786"
            ],
            [
             0.5555555555555556,
             "#d8576b"
            ],
            [
             0.6666666666666666,
             "#ed7953"
            ],
            [
             0.7777777777777778,
             "#fb9f3a"
            ],
            [
             0.8888888888888888,
             "#fdca26"
            ],
            [
             1,
             "#f0f921"
            ]
           ]
          },
          "colorway": [
           "#636efa",
           "#EF553B",
           "#00cc96",
           "#ab63fa",
           "#FFA15A",
           "#19d3f3",
           "#FF6692",
           "#B6E880",
           "#FF97FF",
           "#FECB52"
          ],
          "font": {
           "color": "#2a3f5f"
          },
          "geo": {
           "bgcolor": "white",
           "lakecolor": "white",
           "landcolor": "#E5ECF6",
           "showlakes": true,
           "showland": true,
           "subunitcolor": "white"
          },
          "hoverlabel": {
           "align": "left"
          },
          "hovermode": "closest",
          "mapbox": {
           "style": "light"
          },
          "paper_bgcolor": "white",
          "plot_bgcolor": "#E5ECF6",
          "polar": {
           "angularaxis": {
            "gridcolor": "white",
            "linecolor": "white",
            "ticks": ""
           },
           "bgcolor": "#E5ECF6",
           "radialaxis": {
            "gridcolor": "white",
            "linecolor": "white",
            "ticks": ""
           }
          },
          "scene": {
           "xaxis": {
            "backgroundcolor": "#E5ECF6",
            "gridcolor": "white",
            "gridwidth": 2,
            "linecolor": "white",
            "showbackground": true,
            "ticks": "",
            "zerolinecolor": "white"
           },
           "yaxis": {
            "backgroundcolor": "#E5ECF6",
            "gridcolor": "white",
            "gridwidth": 2,
            "linecolor": "white",
            "showbackground": true,
            "ticks": "",
            "zerolinecolor": "white"
           },
           "zaxis": {
            "backgroundcolor": "#E5ECF6",
            "gridcolor": "white",
            "gridwidth": 2,
            "linecolor": "white",
            "showbackground": true,
            "ticks": "",
            "zerolinecolor": "white"
           }
          },
          "shapedefaults": {
           "line": {
            "color": "#2a3f5f"
           }
          },
          "ternary": {
           "aaxis": {
            "gridcolor": "white",
            "linecolor": "white",
            "ticks": ""
           },
           "baxis": {
            "gridcolor": "white",
            "linecolor": "white",
            "ticks": ""
           },
           "bgcolor": "#E5ECF6",
           "caxis": {
            "gridcolor": "white",
            "linecolor": "white",
            "ticks": ""
           }
          },
          "title": {
           "x": 0.05
          },
          "xaxis": {
           "automargin": true,
           "gridcolor": "white",
           "linecolor": "white",
           "ticks": "",
           "title": {
            "standoff": 15
           },
           "zerolinecolor": "white",
           "zerolinewidth": 2
          },
          "yaxis": {
           "automargin": true,
           "gridcolor": "white",
           "linecolor": "white",
           "ticks": "",
           "title": {
            "standoff": 15
           },
           "zerolinecolor": "white",
           "zerolinewidth": 2
          }
         }
        }
       }
      }
     },
     "metadata": {},
     "output_type": "display_data"
    }
   ],
   "source": [
    "data = dict(\n",
    "    character=[\"Eve\", \"Cain\", \"Seth\", \"Enos\", \"Noam\", \"Abel\", \"Awan\", \"Enoch\", \"Azura\"],\n",
    "    parent=[\"\", \"Eve\", \"Eve\", \"Seth\", \"Seth\", \"Eve\", \"Eve\", \"Awan\", \"Eve\" ],\n",
    "    value=[10, 14, 12, 10, 2, 6, 6, 4, 4])\n",
    "\n",
    "fig = px.sunburst(\n",
    "    data,\n",
    "    names='character',\n",
    "    parents='parent',\n",
    "    values='value',\n",
    ")\n",
    "fig.show()"
   ]
  },
  {
   "cell_type": "code",
   "execution_count": 26,
   "metadata": {},
   "outputs": [
    {
     "data": {
      "text/html": [
       "<div>\n",
       "<style scoped>\n",
       "    .dataframe tbody tr th:only-of-type {\n",
       "        vertical-align: middle;\n",
       "    }\n",
       "\n",
       "    .dataframe tbody tr th {\n",
       "        vertical-align: top;\n",
       "    }\n",
       "\n",
       "    .dataframe thead th {\n",
       "        text-align: right;\n",
       "    }\n",
       "</style>\n",
       "<table border=\"1\" class=\"dataframe\">\n",
       "  <thead>\n",
       "    <tr style=\"text-align: right;\">\n",
       "      <th></th>\n",
       "      <th>ids</th>\n",
       "      <th>labels</th>\n",
       "      <th>parents</th>\n",
       "    </tr>\n",
       "  </thead>\n",
       "  <tbody>\n",
       "    <tr>\n",
       "      <th>0</th>\n",
       "      <td>Aromas</td>\n",
       "      <td>Aromas</td>\n",
       "      <td>NaN</td>\n",
       "    </tr>\n",
       "    <tr>\n",
       "      <th>1</th>\n",
       "      <td>Tastes</td>\n",
       "      <td>Tastes</td>\n",
       "      <td>NaN</td>\n",
       "    </tr>\n",
       "    <tr>\n",
       "      <th>2</th>\n",
       "      <td>Aromas-Enzymatic</td>\n",
       "      <td>Enzymatic</td>\n",
       "      <td>Aromas</td>\n",
       "    </tr>\n",
       "    <tr>\n",
       "      <th>3</th>\n",
       "      <td>Aromas-Sugar Browning</td>\n",
       "      <td>Sugar Browning</td>\n",
       "      <td>Aromas</td>\n",
       "    </tr>\n",
       "    <tr>\n",
       "      <th>4</th>\n",
       "      <td>Aromas-Dry Distillation</td>\n",
       "      <td>Dry Distillation</td>\n",
       "      <td>Aromas</td>\n",
       "    </tr>\n",
       "    <tr>\n",
       "      <th>5</th>\n",
       "      <td>Tastes-Bitter</td>\n",
       "      <td>Bitter</td>\n",
       "      <td>Tastes</td>\n",
       "    </tr>\n",
       "    <tr>\n",
       "      <th>6</th>\n",
       "      <td>Tastes-Salt</td>\n",
       "      <td>Salt</td>\n",
       "      <td>Tastes</td>\n",
       "    </tr>\n",
       "    <tr>\n",
       "      <th>7</th>\n",
       "      <td>Tastes-Sweet</td>\n",
       "      <td>Sweet</td>\n",
       "      <td>Tastes</td>\n",
       "    </tr>\n",
       "    <tr>\n",
       "      <th>8</th>\n",
       "      <td>Tastes-Sour</td>\n",
       "      <td>Sour</td>\n",
       "      <td>Tastes</td>\n",
       "    </tr>\n",
       "    <tr>\n",
       "      <th>9</th>\n",
       "      <td>Enzymatic-Flowery</td>\n",
       "      <td>Flowery</td>\n",
       "      <td>Aromas-Enzymatic</td>\n",
       "    </tr>\n",
       "  </tbody>\n",
       "</table>\n",
       "</div>"
      ],
      "text/plain": [
       "                       ids            labels           parents\n",
       "0                   Aromas            Aromas               NaN\n",
       "1                   Tastes            Tastes               NaN\n",
       "2         Aromas-Enzymatic         Enzymatic            Aromas\n",
       "3    Aromas-Sugar Browning    Sugar Browning            Aromas\n",
       "4  Aromas-Dry Distillation  Dry Distillation            Aromas\n",
       "5            Tastes-Bitter            Bitter            Tastes\n",
       "6              Tastes-Salt              Salt            Tastes\n",
       "7             Tastes-Sweet             Sweet            Tastes\n",
       "8              Tastes-Sour              Sour            Tastes\n",
       "9        Enzymatic-Flowery           Flowery  Aromas-Enzymatic"
      ]
     },
     "execution_count": 26,
     "metadata": {},
     "output_type": "execute_result"
    }
   ],
   "source": [
    "import pandas as pd\n",
    "\n",
    "df = pd.read_csv('https://raw.githubusercontent.com/plotly/datasets/718417069ead87650b90472464c7565dc8c2cb1c/sunburst-coffee-flavors-complete.csv')\n",
    "df.head(10)"
   ]
  },
  {
   "cell_type": "code",
   "execution_count": null,
   "metadata": {},
   "outputs": [],
   "source": []
  }
 ],
 "metadata": {
  "kernelspec": {
   "display_name": "Python 3.9.13 ('env': venv)",
   "language": "python",
   "name": "python3"
  },
  "language_info": {
   "codemirror_mode": {
    "name": "ipython",
    "version": 3
   },
   "file_extension": ".py",
   "mimetype": "text/x-python",
   "name": "python",
   "nbconvert_exporter": "python",
   "pygments_lexer": "ipython3",
   "version": "3.9.13"
  },
  "orig_nbformat": 4,
  "vscode": {
   "interpreter": {
    "hash": "aeccb93f5966e28549b37f0b6da61e145ce816b61b3f04d3add16dc2520045d4"
   }
  }
 },
 "nbformat": 4,
 "nbformat_minor": 2
}

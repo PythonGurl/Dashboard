{
 "cells": [
  {
   "cell_type": "code",
   "execution_count": 34,
   "metadata": {},
   "outputs": [],
   "source": [
    "def check(newspapers_read_times, time_per_person, num_coworkers):\n",
    "    cnt = 1\n",
    "    remain = time_per_person\n",
    "    for time in newspapers_read_times:\n",
    "        print('remain',remain)\n",
    "        if time <= remain:\n",
    "            remain -= time\n",
    "        else:\n",
    "            remain = time_per_person - time\n",
    "            cnt += 1\n",
    "        print(cnt)\n",
    "    # if remain > 0:\n",
    "    #     cnt += 1\n",
    "    print('final', cnt)\n",
    "    return cnt <= num_coworkers\n",
    "\n",
    "def newspapers_split(newspapers_read_times, num_coworkers):\n",
    "    min_time = max(newspapers_read_times)\n",
    "    max_time = sum(newspapers_read_times)\n",
    "    while min_time <= max_time:\n",
    "        mid_time = (min_time + max_time) // 2\n",
    "        print('max', max_time)\n",
    "        print('min', min_time)\n",
    "        print('time',mid_time)\n",
    "        if check(newspapers_read_times, mid_time,num_coworkers):\n",
    "            result = mid_time\n",
    "            max_time = mid_time - 1\n",
    "        else:\n",
    "            min_time = mid_time + 1\n",
    "\n",
    "    return result"
   ]
  },
  {
   "cell_type": "code",
   "execution_count": 36,
   "metadata": {},
   "outputs": [
    {
     "name": "stdout",
     "output_type": "stream",
     "text": [
      "max 32\n",
      "min 10\n",
      "time 21\n",
      "remain 21\n",
      "1\n",
      "remain 14\n",
      "1\n",
      "remain 12\n",
      "1\n",
      "remain 7\n",
      "2\n",
      "remain 11\n",
      "2\n",
      "final 2\n",
      "max 20\n",
      "min 10\n",
      "time 15\n",
      "remain 15\n",
      "1\n",
      "remain 8\n",
      "1\n",
      "remain 6\n",
      "1\n",
      "remain 1\n",
      "2\n",
      "remain 5\n",
      "3\n",
      "final 3\n",
      "max 20\n",
      "min 16\n",
      "time 18\n",
      "remain 18\n",
      "1\n",
      "remain 11\n",
      "1\n",
      "remain 9\n",
      "1\n",
      "remain 4\n",
      "2\n",
      "remain 8\n",
      "2\n",
      "final 2\n",
      "max 17\n",
      "min 16\n",
      "time 16\n",
      "remain 16\n",
      "1\n",
      "remain 9\n",
      "1\n",
      "remain 7\n",
      "1\n",
      "remain 2\n",
      "2\n",
      "remain 6\n",
      "3\n",
      "final 3\n",
      "max 17\n",
      "min 17\n",
      "time 17\n",
      "remain 17\n",
      "1\n",
      "remain 10\n",
      "1\n",
      "remain 8\n",
      "1\n",
      "remain 3\n",
      "2\n",
      "remain 7\n",
      "3\n",
      "final 3\n"
     ]
    },
    {
     "data": {
      "text/plain": [
       "18"
      ]
     },
     "execution_count": 36,
     "metadata": {},
     "output_type": "execute_result"
    }
   ],
   "source": [
    "newspapers_split( [7,2,5,10,8], 2)"
   ]
  },
  {
   "cell_type": "code",
   "execution_count": 35,
   "metadata": {},
   "outputs": [
    {
     "name": "stdout",
     "output_type": "stream",
     "text": [
      "remain 21\n",
      "1\n",
      "remain 14\n",
      "1\n",
      "remain 12\n",
      "1\n",
      "remain 7\n",
      "2\n",
      "remain 11\n",
      "2\n",
      "final 2\n"
     ]
    },
    {
     "data": {
      "text/plain": [
       "True"
      ]
     },
     "execution_count": 35,
     "metadata": {},
     "output_type": "execute_result"
    }
   ],
   "source": [
    "check([7,2,5,10,8], 21, 2)"
   ]
  }
 ],
 "metadata": {
  "interpreter": {
   "hash": "b0fa6594d8f4cbf19f97940f81e996739fb7646882a419484c72d19e05852a7e"
  },
  "kernelspec": {
   "display_name": "Python 3.9.6 64-bit",
   "language": "python",
   "name": "python3"
  },
  "language_info": {
   "codemirror_mode": {
    "name": "ipython",
    "version": 3
   },
   "file_extension": ".py",
   "mimetype": "text/x-python",
   "name": "python",
   "nbconvert_exporter": "python",
   "pygments_lexer": "ipython3",
   "version": "3.9.6"
  },
  "orig_nbformat": 4
 },
 "nbformat": 4,
 "nbformat_minor": 2
}
